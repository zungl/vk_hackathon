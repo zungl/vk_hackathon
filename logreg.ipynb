{
 "cells": [
  {
   "cell_type": "code",
   "execution_count": 1,
   "id": "ace773b6-ca1a-48d2-ba3c-4e19a9cd9ce8",
   "metadata": {},
   "outputs": [],
   "source": [
    "from sklearn.linear_model import LogisticRegression\n",
    "import pandas as pd\n",
    "import utils.feature_selections as fs\n",
    "import utils.get_top_n_features as top_features\n",
    "import matplotlib.pyplot as plt\n",
    "from sklearn.metrics import roc_curve\n",
    "from sklearn.metrics import roc_auc_score\n",
    "import lightgbm as lgb\n",
    "import catboost\n",
    "from utils import MonotonicBinning\n",
    "from sklearn.model_selection import train_test_split"
   ]
  },
  {
   "cell_type": "code",
   "execution_count": 2,
   "id": "e111d905-b4e4-4f69-86a7-32fecf7c341b",
   "metadata": {},
   "outputs": [],
   "source": [
    "def drop_corr(df, tech_cols, cut_off):\n",
    "    delColList = []\n",
    "    df_ = df.sample(frac = 0.1)\n",
    "    argList = list(df.columns)\n",
    "    for i in tech_cols:\n",
    "        argList.remove(i)\n",
    "    while 1:\n",
    "        if (len(argList) <= 1):\n",
    "            break\n",
    "        \n",
    "        feature = argList[0]\n",
    "        \n",
    "        for i in argList[1:]:\n",
    "            try:\n",
    "                if abs(df_[[i, feature]].corr().iloc[0][1]) >= cut_off:\n",
    "                    delColList.append(feature)\n",
    "                    break\n",
    "            except Exception:\n",
    "                print(\"Не рассчиталась корреляция между фичами \" + i + \" и \" + feature)\n",
    "        argList.remove(feature)\n",
    "    return delColList\n",
    "                "
   ]
  },
  {
   "cell_type": "code",
   "execution_count": 3,
   "id": "a33d123c-32d1-4bd7-9fd5-ef68398e085c",
   "metadata": {},
   "outputs": [],
   "source": [
    "def drop_singular(df, cut_off):\n",
    "    delColList = []\n",
    "    for col in df.columns:\n",
    "        if max(df[col].value_counts() / df.shape[0]) > cut_off:\n",
    "            delColList.append(col)\n",
    "    return delColList"
   ]
  },
  {
   "cell_type": "code",
   "execution_count": 4,
   "id": "b06a53be-49f7-4ecd-898a-7fc3b73447d5",
   "metadata": {},
   "outputs": [],
   "source": [
    "df_features = pd.read_csv('./data/FINAL_FEATURES_TRAINTEST.tsv', sep = '\\t')"
   ]
  },
  {
   "cell_type": "code",
   "execution_count": 5,
   "id": "1023ea07-7b4f-4af1-9a0e-bca8c115ad50",
   "metadata": {},
   "outputs": [],
   "source": [
    "df_train = pd.read_csv('./data/clean_data/TRAIN_TARGETS_DATES.csv', sep = ',')"
   ]
  },
  {
   "cell_type": "code",
   "execution_count": 6,
   "id": "c4b2be65-1ff8-436d-bfc0-9b190a4b76e3",
   "metadata": {},
   "outputs": [],
   "source": [
    "df_val = pd.read_csv('./data/clean_data/VAL_TARGETS_DATES.csv', sep = ',')"
   ]
  },
  {
   "cell_type": "code",
   "execution_count": 7,
   "id": "efefb923-1e4c-452c-a6a4-dc8c7bc55dd4",
   "metadata": {},
   "outputs": [],
   "source": [
    "df_train = df_train.merge(df_features, how = 'left', left_on = 'CLIENT_ID', right_on = 'CLIENT_ID')"
   ]
  },
  {
   "cell_type": "code",
   "execution_count": 8,
   "id": "de418242-8144-4fb9-bfe0-ccbf2dde36a1",
   "metadata": {},
   "outputs": [],
   "source": [
    "df_val = df_val.merge(df_features, how = 'left', left_on = 'CLIENT_ID', right_on = 'CLIENT_ID')"
   ]
  },
  {
   "cell_type": "code",
   "execution_count": 9,
   "id": "4bf531e9-8972-4ec8-ba16-80b8011789f5",
   "metadata": {},
   "outputs": [],
   "source": [
    "drop_list_singular = drop_singular(df_train, 0.90)"
   ]
  },
  {
   "cell_type": "code",
   "execution_count": 10,
   "id": "4b617304-4f0b-4a55-b7ee-a6d53df6609b",
   "metadata": {},
   "outputs": [],
   "source": [
    "df_train.drop(drop_list_singular, axis = 1, inplace = True)"
   ]
  },
  {
   "cell_type": "code",
   "execution_count": 11,
   "id": "68fd64a2-9592-47da-912b-e73fa422b5b4",
   "metadata": {},
   "outputs": [],
   "source": [
    "tech_cols = ['CLIENT_ID']\n",
    "\n",
    "\n",
    "drop_list_corr = drop_corr(df_train, tech_cols, 0.75)"
   ]
  },
  {
   "cell_type": "code",
   "execution_count": 12,
   "id": "cba0d73c-cef9-4dea-99ef-3a3adbf5d85d",
   "metadata": {},
   "outputs": [],
   "source": [
    "df_train.drop(drop_list_corr, axis = 1, inplace = True)"
   ]
  },
  {
   "cell_type": "code",
   "execution_count": 13,
   "id": "74fcbf5a-1c88-4344-be6c-b1e23c4805ae",
   "metadata": {},
   "outputs": [],
   "source": [
    "df_train = df_train.apply(lambda x: x.fillna(x.mean()),axis=0)"
   ]
  },
  {
   "cell_type": "code",
   "execution_count": 14,
   "id": "57bcb7f6-84bd-4030-94ad-1faa3ed4ac84",
   "metadata": {},
   "outputs": [],
   "source": [
    "df_val = df_val.apply(lambda x: x.fillna(x.mean()),axis=0)"
   ]
  },
  {
   "cell_type": "code",
   "execution_count": 15,
   "id": "fe790b4d-def3-4a65-9e45-71e272f210d3",
   "metadata": {},
   "outputs": [],
   "source": [
    "df_val = df_val[df_train.columns]"
   ]
  },
  {
   "cell_type": "code",
   "execution_count": 16,
   "id": "c47fb434-3e42-43ac-9470-2936a4d913e6",
   "metadata": {},
   "outputs": [],
   "source": [
    "x_train = df_train.drop(['CLIENT_ID', 'TARGET', 'RETRO_DT'], axis = 1)\n",
    "y_train = df_train['TARGET']\n",
    "\n",
    "x_test = df_val.drop(['CLIENT_ID', 'TARGET', 'RETRO_DT'], axis = 1)\n",
    "y_test = df_val['TARGET']"
   ]
  },
  {
   "cell_type": "code",
   "execution_count": 17,
   "id": "d1200cb6-9a4e-4d9b-9fe3-5345b7b5918c",
   "metadata": {},
   "outputs": [],
   "source": [
    "model = lgb.LGBMClassifier()"
   ]
  },
  {
   "cell_type": "code",
   "execution_count": 18,
   "id": "ef9207f0-2272-4240-b6ce-81cee8d391dc",
   "metadata": {},
   "outputs": [
    {
     "data": {
      "text/html": [
       "<style>#sk-container-id-1 {color: black;background-color: white;}#sk-container-id-1 pre{padding: 0;}#sk-container-id-1 div.sk-toggleable {background-color: white;}#sk-container-id-1 label.sk-toggleable__label {cursor: pointer;display: block;width: 100%;margin-bottom: 0;padding: 0.3em;box-sizing: border-box;text-align: center;}#sk-container-id-1 label.sk-toggleable__label-arrow:before {content: \"▸\";float: left;margin-right: 0.25em;color: #696969;}#sk-container-id-1 label.sk-toggleable__label-arrow:hover:before {color: black;}#sk-container-id-1 div.sk-estimator:hover label.sk-toggleable__label-arrow:before {color: black;}#sk-container-id-1 div.sk-toggleable__content {max-height: 0;max-width: 0;overflow: hidden;text-align: left;background-color: #f0f8ff;}#sk-container-id-1 div.sk-toggleable__content pre {margin: 0.2em;color: black;border-radius: 0.25em;background-color: #f0f8ff;}#sk-container-id-1 input.sk-toggleable__control:checked~div.sk-toggleable__content {max-height: 200px;max-width: 100%;overflow: auto;}#sk-container-id-1 input.sk-toggleable__control:checked~label.sk-toggleable__label-arrow:before {content: \"▾\";}#sk-container-id-1 div.sk-estimator input.sk-toggleable__control:checked~label.sk-toggleable__label {background-color: #d4ebff;}#sk-container-id-1 div.sk-label input.sk-toggleable__control:checked~label.sk-toggleable__label {background-color: #d4ebff;}#sk-container-id-1 input.sk-hidden--visually {border: 0;clip: rect(1px 1px 1px 1px);clip: rect(1px, 1px, 1px, 1px);height: 1px;margin: -1px;overflow: hidden;padding: 0;position: absolute;width: 1px;}#sk-container-id-1 div.sk-estimator {font-family: monospace;background-color: #f0f8ff;border: 1px dotted black;border-radius: 0.25em;box-sizing: border-box;margin-bottom: 0.5em;}#sk-container-id-1 div.sk-estimator:hover {background-color: #d4ebff;}#sk-container-id-1 div.sk-parallel-item::after {content: \"\";width: 100%;border-bottom: 1px solid gray;flex-grow: 1;}#sk-container-id-1 div.sk-label:hover label.sk-toggleable__label {background-color: #d4ebff;}#sk-container-id-1 div.sk-serial::before {content: \"\";position: absolute;border-left: 1px solid gray;box-sizing: border-box;top: 0;bottom: 0;left: 50%;z-index: 0;}#sk-container-id-1 div.sk-serial {display: flex;flex-direction: column;align-items: center;background-color: white;padding-right: 0.2em;padding-left: 0.2em;position: relative;}#sk-container-id-1 div.sk-item {position: relative;z-index: 1;}#sk-container-id-1 div.sk-parallel {display: flex;align-items: stretch;justify-content: center;background-color: white;position: relative;}#sk-container-id-1 div.sk-item::before, #sk-container-id-1 div.sk-parallel-item::before {content: \"\";position: absolute;border-left: 1px solid gray;box-sizing: border-box;top: 0;bottom: 0;left: 50%;z-index: -1;}#sk-container-id-1 div.sk-parallel-item {display: flex;flex-direction: column;z-index: 1;position: relative;background-color: white;}#sk-container-id-1 div.sk-parallel-item:first-child::after {align-self: flex-end;width: 50%;}#sk-container-id-1 div.sk-parallel-item:last-child::after {align-self: flex-start;width: 50%;}#sk-container-id-1 div.sk-parallel-item:only-child::after {width: 0;}#sk-container-id-1 div.sk-dashed-wrapped {border: 1px dashed gray;margin: 0 0.4em 0.5em 0.4em;box-sizing: border-box;padding-bottom: 0.4em;background-color: white;}#sk-container-id-1 div.sk-label label {font-family: monospace;font-weight: bold;display: inline-block;line-height: 1.2em;}#sk-container-id-1 div.sk-label-container {text-align: center;}#sk-container-id-1 div.sk-container {/* jupyter's `normalize.less` sets `[hidden] { display: none; }` but bootstrap.min.css set `[hidden] { display: none !important; }` so we also need the `!important` here to be able to override the default hidden behavior on the sphinx rendered scikit-learn.org. See: https://github.com/scikit-learn/scikit-learn/issues/21755 */display: inline-block !important;position: relative;}#sk-container-id-1 div.sk-text-repr-fallback {display: none;}</style><div id=\"sk-container-id-1\" class=\"sk-top-container\"><div class=\"sk-text-repr-fallback\"><pre>LGBMClassifier()</pre><b>In a Jupyter environment, please rerun this cell to show the HTML representation or trust the notebook. <br />On GitHub, the HTML representation is unable to render, please try loading this page with nbviewer.org.</b></div><div class=\"sk-container\" hidden><div class=\"sk-item\"><div class=\"sk-estimator sk-toggleable\"><input class=\"sk-toggleable__control sk-hidden--visually\" id=\"sk-estimator-id-1\" type=\"checkbox\" checked><label for=\"sk-estimator-id-1\" class=\"sk-toggleable__label sk-toggleable__label-arrow\">LGBMClassifier</label><div class=\"sk-toggleable__content\"><pre>LGBMClassifier()</pre></div></div></div></div></div>"
      ],
      "text/plain": [
       "LGBMClassifier()"
      ]
     },
     "execution_count": 18,
     "metadata": {},
     "output_type": "execute_result"
    }
   ],
   "source": [
    "model.fit(x_train, y_train)"
   ]
  },
  {
   "cell_type": "code",
   "execution_count": 19,
   "id": "f764a3aa-9737-4e3f-9df4-6d027f7e53c3",
   "metadata": {},
   "outputs": [
    {
     "data": {
      "text/plain": [
       "0.5928618052712593"
      ]
     },
     "execution_count": 19,
     "metadata": {},
     "output_type": "execute_result"
    }
   ],
   "source": [
    "roc_auc_score(y_test, model.predict_proba(x_test)[:, 1])"
   ]
  },
  {
   "cell_type": "code",
   "execution_count": 20,
   "id": "979f3318-6435-4a23-9cff-8cfd288a602d",
   "metadata": {},
   "outputs": [],
   "source": [
    "df_train['proba'] = model.predict_proba(x_train)[:, 1]"
   ]
  },
  {
   "cell_type": "code",
   "execution_count": 108,
   "id": "a8bdbfdc-fc5a-4ca6-9e8a-7210958d9fa4",
   "metadata": {},
   "outputs": [],
   "source": [
    "binner = MonotonicBinning.MonotonicBinning()\n",
    "df_train['bucket'] = binner.fit_transform(df_train, target='TARGET', column='proba', maxbins = 100, stopping = 7)"
   ]
  },
  {
   "cell_type": "code",
   "execution_count": 109,
   "id": "1bfc7baa-7454-4910-a04d-7fab997f5e1b",
   "metadata": {},
   "outputs": [
    {
     "data": {
      "text/plain": [
       "2    45531\n",
       "3    29986\n",
       "1    20013\n",
       "4     4314\n",
       "0     1312\n",
       "5      678\n",
       "6       96\n",
       "7       16\n",
       "Name: bucket, dtype: int64"
      ]
     },
     "execution_count": 109,
     "metadata": {},
     "output_type": "execute_result"
    }
   ],
   "source": [
    "df_train['bucket'].value_counts()"
   ]
  },
  {
   "cell_type": "code",
   "execution_count": 110,
   "id": "4ccfa141-33eb-40d0-95a4-d61a16f86548",
   "metadata": {},
   "outputs": [
    {
     "data": {
      "text/html": [
       "<div>\n",
       "<style scoped>\n",
       "    .dataframe tbody tr th:only-of-type {\n",
       "        vertical-align: middle;\n",
       "    }\n",
       "\n",
       "    .dataframe tbody tr th {\n",
       "        vertical-align: top;\n",
       "    }\n",
       "\n",
       "    .dataframe thead th {\n",
       "        text-align: right;\n",
       "    }\n",
       "</style>\n",
       "<table border=\"1\" class=\"dataframe\">\n",
       "  <thead>\n",
       "    <tr style=\"text-align: right;\">\n",
       "      <th></th>\n",
       "      <th>TARGET</th>\n",
       "    </tr>\n",
       "    <tr>\n",
       "      <th>bucket</th>\n",
       "      <th></th>\n",
       "    </tr>\n",
       "  </thead>\n",
       "  <tbody>\n",
       "    <tr>\n",
       "      <th>0</th>\n",
       "      <td>0.002287</td>\n",
       "    </tr>\n",
       "    <tr>\n",
       "      <th>1</th>\n",
       "      <td>0.079648</td>\n",
       "    </tr>\n",
       "    <tr>\n",
       "      <th>2</th>\n",
       "      <td>0.239639</td>\n",
       "    </tr>\n",
       "    <tr>\n",
       "      <th>3</th>\n",
       "      <td>0.396685</td>\n",
       "    </tr>\n",
       "    <tr>\n",
       "      <th>4</th>\n",
       "      <td>0.671071</td>\n",
       "    </tr>\n",
       "    <tr>\n",
       "      <th>5</th>\n",
       "      <td>0.910029</td>\n",
       "    </tr>\n",
       "    <tr>\n",
       "      <th>6</th>\n",
       "      <td>1.000000</td>\n",
       "    </tr>\n",
       "    <tr>\n",
       "      <th>7</th>\n",
       "      <td>1.000000</td>\n",
       "    </tr>\n",
       "  </tbody>\n",
       "</table>\n",
       "</div>"
      ],
      "text/plain": [
       "          TARGET\n",
       "bucket          \n",
       "0       0.002287\n",
       "1       0.079648\n",
       "2       0.239639\n",
       "3       0.396685\n",
       "4       0.671071\n",
       "5       0.910029\n",
       "6       1.000000\n",
       "7       1.000000"
      ]
     },
     "execution_count": 110,
     "metadata": {},
     "output_type": "execute_result"
    }
   ],
   "source": [
    "df_train[['bucket', 'TARGET']].groupby('bucket').agg('sum')/df_train[['bucket', 'TARGET']].groupby('bucket').agg('count')"
   ]
  },
  {
   "cell_type": "code",
   "execution_count": 111,
   "id": "b4bb1c1c-cb05-4b4a-91b6-ad77b9c9f8cf",
   "metadata": {},
   "outputs": [
    {
     "data": {
      "text/plain": [
       "1"
      ]
     },
     "execution_count": 111,
     "metadata": {},
     "output_type": "execute_result"
    }
   ],
   "source": [
    "df_train[df_train['bucket'] == 7]['TARGET'].nunique()"
   ]
  },
  {
   "cell_type": "code",
   "execution_count": 112,
   "id": "f1c8adb4-f919-4159-8fec-02c0ee423939",
   "metadata": {},
   "outputs": [
    {
     "data": {
      "text/plain": [
       "0.2749200557157711"
      ]
     },
     "execution_count": 112,
     "metadata": {},
     "output_type": "execute_result"
    }
   ],
   "source": [
    "df_train['TARGET'].sum()/df_train.shape[0]"
   ]
  },
  {
   "cell_type": "code",
   "execution_count": 119,
   "id": "7b977b66-805d-4ff4-9d25-fe8c244ce07c",
   "metadata": {},
   "outputs": [],
   "source": [
    "df_train['pred'] = df_train['bucket'].apply(lambda x: 1 if x >= 3 else 0)"
   ]
  },
  {
   "cell_type": "code",
   "execution_count": 120,
   "id": "f2407cf3-e8cd-4e59-822f-fe3aa5851020",
   "metadata": {},
   "outputs": [
    {
     "data": {
      "text/plain": [
       "0.6444766393161319"
      ]
     },
     "execution_count": 120,
     "metadata": {},
     "output_type": "execute_result"
    }
   ],
   "source": [
    "roc_auc_score(df_train['TARGET'], df_train['pred'])"
   ]
  },
  {
   "cell_type": "code",
   "execution_count": 21,
   "id": "7e8fc2b1-70a4-40e0-b0f5-936c65f0d882",
   "metadata": {},
   "outputs": [],
   "source": [
    "df_val['proba'] = model.predict_proba(x_test)[:, 1]"
   ]
  },
  {
   "cell_type": "code",
   "execution_count": 123,
   "id": "7f419171-6e0d-4c29-8ed0-5c2fdba85c0d",
   "metadata": {},
   "outputs": [],
   "source": [
    "df_val['bucket'] = binner.transform(df_val, column='proba')"
   ]
  },
  {
   "cell_type": "code",
   "execution_count": 124,
   "id": "785a4d24-d805-45e0-b358-d8c50f270c59",
   "metadata": {},
   "outputs": [],
   "source": [
    "df_val['pred'] = df_val['bucket'].apply(lambda x: 1 if x >= 3 else 0)"
   ]
  },
  {
   "cell_type": "code",
   "execution_count": 125,
   "id": "3345c13a-77cd-4821-94a7-2d58631e523d",
   "metadata": {},
   "outputs": [
    {
     "data": {
      "text/plain": [
       "0.5606491674491277"
      ]
     },
     "execution_count": 125,
     "metadata": {},
     "output_type": "execute_result"
    }
   ],
   "source": [
    "roc_auc_score(df_val['TARGET'], df_val['pred'])"
   ]
  },
  {
   "cell_type": "code",
   "execution_count": null,
   "id": "547c6918-e3bd-4d32-a30c-3b1e1f60958e",
   "metadata": {},
   "outputs": [],
   "source": [
    "binner = MonotonicBinning.MonotonicBinning()\n",
    "for col in df_features.drop(['TARGET', 'CLIENT_ID'], axis = 1).columns:\n",
    "    print(col)\n",
    "    df_features[col] = binner.fit_transform(df_features, target='TARGET', column=col, maxbins = 20, stopping = 7)"
   ]
  },
  {
   "cell_type": "code",
   "execution_count": 22,
   "id": "a9f12811-2770-4f67-a702-6de15fa85ab0",
   "metadata": {},
   "outputs": [],
   "source": [
    "df = pd.concat([df_train[['CLIENT_ID', 'proba']], df_val[['CLIENT_ID', 'proba']]])"
   ]
  },
  {
   "cell_type": "code",
   "execution_count": 23,
   "id": "3f9fe1d2-593d-4224-b987-458fb997d5b7",
   "metadata": {},
   "outputs": [
    {
     "data": {
      "text/plain": [
       "(127432, 2)"
      ]
     },
     "execution_count": 23,
     "metadata": {},
     "output_type": "execute_result"
    }
   ],
   "source": [
    "df.shape"
   ]
  },
  {
   "cell_type": "code",
   "execution_count": 25,
   "id": "de781452-64ee-48bd-9f08-ee049dce0cf7",
   "metadata": {},
   "outputs": [],
   "source": [
    "df = df.merge(df_features, how = 'left', left_on = 'CLIENT_ID', right_on = 'CLIENT_ID')"
   ]
  },
  {
   "cell_type": "code",
   "execution_count": null,
   "id": "501c9ec8-7b54-4167-8bb2-d351103e1da3",
   "metadata": {},
   "outputs": [],
   "source": [
    "df.to_csv('classic_submission.csv', )"
   ]
  },
  {
   "cell_type": "code",
   "execution_count": 130,
   "id": "aa564e49-0fe2-4ea7-a004-43c4ff25c62b",
   "metadata": {},
   "outputs": [
    {
     "data": {
      "text/plain": [
       "0.7209615006505683"
      ]
     },
     "execution_count": 130,
     "metadata": {},
     "output_type": "execute_result"
    }
   ],
   "source": [
    "roc_auc_score(df_train['TARGET'], df_train['proba'])"
   ]
  },
  {
   "cell_type": "code",
   "execution_count": 26,
   "id": "754f1a47-c21e-409d-8c48-48e40ca730d0",
   "metadata": {},
   "outputs": [],
   "source": [
    "df = pd.concat([df_train, df_val[df_train.columns]])"
   ]
  },
  {
   "cell_type": "code",
   "execution_count": 27,
   "id": "98f084f8-0ac9-42a5-9557-e52023cf6cfd",
   "metadata": {},
   "outputs": [
    {
     "data": {
      "text/plain": [
       "(127432, 219)"
      ]
     },
     "execution_count": 27,
     "metadata": {},
     "output_type": "execute_result"
    }
   ],
   "source": [
    "df.shape"
   ]
  },
  {
   "cell_type": "code",
   "execution_count": 78,
   "id": "7af07daf-6aca-4a2f-886a-c70fdd0b2c83",
   "metadata": {},
   "outputs": [
    {
     "data": {
      "text/html": [
       "<style>#sk-container-id-5 {color: black;background-color: white;}#sk-container-id-5 pre{padding: 0;}#sk-container-id-5 div.sk-toggleable {background-color: white;}#sk-container-id-5 label.sk-toggleable__label {cursor: pointer;display: block;width: 100%;margin-bottom: 0;padding: 0.3em;box-sizing: border-box;text-align: center;}#sk-container-id-5 label.sk-toggleable__label-arrow:before {content: \"▸\";float: left;margin-right: 0.25em;color: #696969;}#sk-container-id-5 label.sk-toggleable__label-arrow:hover:before {color: black;}#sk-container-id-5 div.sk-estimator:hover label.sk-toggleable__label-arrow:before {color: black;}#sk-container-id-5 div.sk-toggleable__content {max-height: 0;max-width: 0;overflow: hidden;text-align: left;background-color: #f0f8ff;}#sk-container-id-5 div.sk-toggleable__content pre {margin: 0.2em;color: black;border-radius: 0.25em;background-color: #f0f8ff;}#sk-container-id-5 input.sk-toggleable__control:checked~div.sk-toggleable__content {max-height: 200px;max-width: 100%;overflow: auto;}#sk-container-id-5 input.sk-toggleable__control:checked~label.sk-toggleable__label-arrow:before {content: \"▾\";}#sk-container-id-5 div.sk-estimator input.sk-toggleable__control:checked~label.sk-toggleable__label {background-color: #d4ebff;}#sk-container-id-5 div.sk-label input.sk-toggleable__control:checked~label.sk-toggleable__label {background-color: #d4ebff;}#sk-container-id-5 input.sk-hidden--visually {border: 0;clip: rect(1px 1px 1px 1px);clip: rect(1px, 1px, 1px, 1px);height: 1px;margin: -1px;overflow: hidden;padding: 0;position: absolute;width: 1px;}#sk-container-id-5 div.sk-estimator {font-family: monospace;background-color: #f0f8ff;border: 1px dotted black;border-radius: 0.25em;box-sizing: border-box;margin-bottom: 0.5em;}#sk-container-id-5 div.sk-estimator:hover {background-color: #d4ebff;}#sk-container-id-5 div.sk-parallel-item::after {content: \"\";width: 100%;border-bottom: 1px solid gray;flex-grow: 1;}#sk-container-id-5 div.sk-label:hover label.sk-toggleable__label {background-color: #d4ebff;}#sk-container-id-5 div.sk-serial::before {content: \"\";position: absolute;border-left: 1px solid gray;box-sizing: border-box;top: 0;bottom: 0;left: 50%;z-index: 0;}#sk-container-id-5 div.sk-serial {display: flex;flex-direction: column;align-items: center;background-color: white;padding-right: 0.2em;padding-left: 0.2em;position: relative;}#sk-container-id-5 div.sk-item {position: relative;z-index: 1;}#sk-container-id-5 div.sk-parallel {display: flex;align-items: stretch;justify-content: center;background-color: white;position: relative;}#sk-container-id-5 div.sk-item::before, #sk-container-id-5 div.sk-parallel-item::before {content: \"\";position: absolute;border-left: 1px solid gray;box-sizing: border-box;top: 0;bottom: 0;left: 50%;z-index: -1;}#sk-container-id-5 div.sk-parallel-item {display: flex;flex-direction: column;z-index: 1;position: relative;background-color: white;}#sk-container-id-5 div.sk-parallel-item:first-child::after {align-self: flex-end;width: 50%;}#sk-container-id-5 div.sk-parallel-item:last-child::after {align-self: flex-start;width: 50%;}#sk-container-id-5 div.sk-parallel-item:only-child::after {width: 0;}#sk-container-id-5 div.sk-dashed-wrapped {border: 1px dashed gray;margin: 0 0.4em 0.5em 0.4em;box-sizing: border-box;padding-bottom: 0.4em;background-color: white;}#sk-container-id-5 div.sk-label label {font-family: monospace;font-weight: bold;display: inline-block;line-height: 1.2em;}#sk-container-id-5 div.sk-label-container {text-align: center;}#sk-container-id-5 div.sk-container {/* jupyter's `normalize.less` sets `[hidden] { display: none; }` but bootstrap.min.css set `[hidden] { display: none !important; }` so we also need the `!important` here to be able to override the default hidden behavior on the sphinx rendered scikit-learn.org. See: https://github.com/scikit-learn/scikit-learn/issues/21755 */display: inline-block !important;position: relative;}#sk-container-id-5 div.sk-text-repr-fallback {display: none;}</style><div id=\"sk-container-id-5\" class=\"sk-top-container\"><div class=\"sk-text-repr-fallback\"><pre>LGBMClassifier()</pre><b>In a Jupyter environment, please rerun this cell to show the HTML representation or trust the notebook. <br />On GitHub, the HTML representation is unable to render, please try loading this page with nbviewer.org.</b></div><div class=\"sk-container\" hidden><div class=\"sk-item\"><div class=\"sk-estimator sk-toggleable\"><input class=\"sk-toggleable__control sk-hidden--visually\" id=\"sk-estimator-id-5\" type=\"checkbox\" checked><label for=\"sk-estimator-id-5\" class=\"sk-toggleable__label sk-toggleable__label-arrow\">LGBMClassifier</label><div class=\"sk-toggleable__content\"><pre>LGBMClassifier()</pre></div></div></div></div></div>"
      ],
      "text/plain": [
       "LGBMClassifier()"
      ]
     },
     "execution_count": 78,
     "metadata": {},
     "output_type": "execute_result"
    }
   ],
   "source": [
    "model.fit(df.drop(['TARGET', 'CLIENT_ID', 'RETRO_DT', 'proba'], axis = 1), df['TARGET'])"
   ]
  },
  {
   "cell_type": "code",
   "execution_count": 80,
   "id": "9d4f0844-efe1-4554-9652-ff52dc6ebfaf",
   "metadata": {},
   "outputs": [
    {
     "data": {
      "text/plain": [
       "0.7021170103840338"
      ]
     },
     "execution_count": 80,
     "metadata": {},
     "output_type": "execute_result"
    }
   ],
   "source": [
    "roc_auc_score(df['TARGET'], model.predict_proba(df.drop(['TARGET', 'CLIENT_ID', 'RETRO_DT', 'proba'], axis = 1))[:, 1])"
   ]
  },
  {
   "cell_type": "code",
   "execution_count": 81,
   "id": "d271ba74-670c-46fe-b134-532bcc9f416d",
   "metadata": {},
   "outputs": [],
   "source": [
    "df['proba'] = model.predict_proba(df.drop(['TARGET', 'CLIENT_ID', 'RETRO_DT', 'proba'], axis = 1))[:, 1]"
   ]
  },
  {
   "cell_type": "code",
   "execution_count": 82,
   "id": "2f97b518-559d-43d6-b752-53d0c91d06ed",
   "metadata": {},
   "outputs": [
    {
     "data": {
      "text/html": [
       "<div>\n",
       "<style scoped>\n",
       "    .dataframe tbody tr th:only-of-type {\n",
       "        vertical-align: middle;\n",
       "    }\n",
       "\n",
       "    .dataframe tbody tr th {\n",
       "        vertical-align: top;\n",
       "    }\n",
       "\n",
       "    .dataframe thead th {\n",
       "        text-align: right;\n",
       "    }\n",
       "</style>\n",
       "<table border=\"1\" class=\"dataframe\">\n",
       "  <thead>\n",
       "    <tr style=\"text-align: right;\">\n",
       "      <th></th>\n",
       "      <th>CLIENT_ID</th>\n",
       "      <th>proba</th>\n",
       "    </tr>\n",
       "  </thead>\n",
       "  <tbody>\n",
       "    <tr>\n",
       "      <th>0</th>\n",
       "      <td>1580286</td>\n",
       "      <td>0.224819</td>\n",
       "    </tr>\n",
       "    <tr>\n",
       "      <th>1</th>\n",
       "      <td>68513</td>\n",
       "      <td>0.252503</td>\n",
       "    </tr>\n",
       "    <tr>\n",
       "      <th>2</th>\n",
       "      <td>1579276</td>\n",
       "      <td>0.297600</td>\n",
       "    </tr>\n",
       "    <tr>\n",
       "      <th>3</th>\n",
       "      <td>1531035</td>\n",
       "      <td>0.257584</td>\n",
       "    </tr>\n",
       "    <tr>\n",
       "      <th>4</th>\n",
       "      <td>1547532</td>\n",
       "      <td>0.220082</td>\n",
       "    </tr>\n",
       "    <tr>\n",
       "      <th>...</th>\n",
       "      <td>...</td>\n",
       "      <td>...</td>\n",
       "    </tr>\n",
       "    <tr>\n",
       "      <th>25481</th>\n",
       "      <td>69974</td>\n",
       "      <td>0.328844</td>\n",
       "    </tr>\n",
       "    <tr>\n",
       "      <th>25482</th>\n",
       "      <td>70728</td>\n",
       "      <td>0.287455</td>\n",
       "    </tr>\n",
       "    <tr>\n",
       "      <th>25483</th>\n",
       "      <td>70831</td>\n",
       "      <td>0.298865</td>\n",
       "    </tr>\n",
       "    <tr>\n",
       "      <th>25484</th>\n",
       "      <td>72181</td>\n",
       "      <td>0.332944</td>\n",
       "    </tr>\n",
       "    <tr>\n",
       "      <th>25485</th>\n",
       "      <td>72459</td>\n",
       "      <td>0.357843</td>\n",
       "    </tr>\n",
       "  </tbody>\n",
       "</table>\n",
       "<p>127432 rows × 2 columns</p>\n",
       "</div>"
      ],
      "text/plain": [
       "       CLIENT_ID     proba\n",
       "0        1580286  0.224819\n",
       "1          68513  0.252503\n",
       "2        1579276  0.297600\n",
       "3        1531035  0.257584\n",
       "4        1547532  0.220082\n",
       "...          ...       ...\n",
       "25481      69974  0.328844\n",
       "25482      70728  0.287455\n",
       "25483      70831  0.298865\n",
       "25484      72181  0.332944\n",
       "25485      72459  0.357843\n",
       "\n",
       "[127432 rows x 2 columns]"
      ]
     },
     "execution_count": 82,
     "metadata": {},
     "output_type": "execute_result"
    }
   ],
   "source": [
    "df[['CLIENT_ID', 'proba']]"
   ]
  },
  {
   "cell_type": "code",
   "execution_count": 83,
   "id": "ea62f93c-615d-4177-afee-db3d4b5c44e6",
   "metadata": {},
   "outputs": [],
   "source": [
    "df[['CLIENT_ID', 'proba']].to_csv('classic_submission.csv', index = False)"
   ]
  },
  {
   "cell_type": "code",
   "execution_count": 84,
   "id": "0d098ca5-7fe8-4768-b9f8-fb076c1ee957",
   "metadata": {},
   "outputs": [
    {
     "data": {
      "text/html": [
       "<div>\n",
       "<style scoped>\n",
       "    .dataframe tbody tr th:only-of-type {\n",
       "        vertical-align: middle;\n",
       "    }\n",
       "\n",
       "    .dataframe tbody tr th {\n",
       "        vertical-align: top;\n",
       "    }\n",
       "\n",
       "    .dataframe thead th {\n",
       "        text-align: right;\n",
       "    }\n",
       "</style>\n",
       "<table border=\"1\" class=\"dataframe\">\n",
       "  <thead>\n",
       "    <tr style=\"text-align: right;\">\n",
       "      <th></th>\n",
       "      <th>CLIENT_ID</th>\n",
       "      <th>proba</th>\n",
       "    </tr>\n",
       "  </thead>\n",
       "  <tbody>\n",
       "    <tr>\n",
       "      <th>0</th>\n",
       "      <td>1580286</td>\n",
       "      <td>0.224819</td>\n",
       "    </tr>\n",
       "    <tr>\n",
       "      <th>1</th>\n",
       "      <td>68513</td>\n",
       "      <td>0.252503</td>\n",
       "    </tr>\n",
       "    <tr>\n",
       "      <th>2</th>\n",
       "      <td>1579276</td>\n",
       "      <td>0.297600</td>\n",
       "    </tr>\n",
       "    <tr>\n",
       "      <th>3</th>\n",
       "      <td>1531035</td>\n",
       "      <td>0.257584</td>\n",
       "    </tr>\n",
       "    <tr>\n",
       "      <th>4</th>\n",
       "      <td>1547532</td>\n",
       "      <td>0.220082</td>\n",
       "    </tr>\n",
       "    <tr>\n",
       "      <th>...</th>\n",
       "      <td>...</td>\n",
       "      <td>...</td>\n",
       "    </tr>\n",
       "    <tr>\n",
       "      <th>25481</th>\n",
       "      <td>69974</td>\n",
       "      <td>0.328844</td>\n",
       "    </tr>\n",
       "    <tr>\n",
       "      <th>25482</th>\n",
       "      <td>70728</td>\n",
       "      <td>0.287455</td>\n",
       "    </tr>\n",
       "    <tr>\n",
       "      <th>25483</th>\n",
       "      <td>70831</td>\n",
       "      <td>0.298865</td>\n",
       "    </tr>\n",
       "    <tr>\n",
       "      <th>25484</th>\n",
       "      <td>72181</td>\n",
       "      <td>0.332944</td>\n",
       "    </tr>\n",
       "    <tr>\n",
       "      <th>25485</th>\n",
       "      <td>72459</td>\n",
       "      <td>0.357843</td>\n",
       "    </tr>\n",
       "  </tbody>\n",
       "</table>\n",
       "<p>127432 rows × 2 columns</p>\n",
       "</div>"
      ],
      "text/plain": [
       "       CLIENT_ID     proba\n",
       "0        1580286  0.224819\n",
       "1          68513  0.252503\n",
       "2        1579276  0.297600\n",
       "3        1531035  0.257584\n",
       "4        1547532  0.220082\n",
       "...          ...       ...\n",
       "25481      69974  0.328844\n",
       "25482      70728  0.287455\n",
       "25483      70831  0.298865\n",
       "25484      72181  0.332944\n",
       "25485      72459  0.357843\n",
       "\n",
       "[127432 rows x 2 columns]"
      ]
     },
     "execution_count": 84,
     "metadata": {},
     "output_type": "execute_result"
    }
   ],
   "source": [
    "df[['CLIENT_ID', 'proba']]"
   ]
  },
  {
   "cell_type": "code",
   "execution_count": 85,
   "id": "3a5a9e08-35d0-4289-abde-c4f57c43924d",
   "metadata": {},
   "outputs": [],
   "source": [
    "df_friends = pd.read_csv('train_val_friends_submition.csv')"
   ]
  },
  {
   "cell_type": "code",
   "execution_count": 86,
   "id": "df224f2c-b577-4f28-a6cd-4c6d1301a7d0",
   "metadata": {},
   "outputs": [],
   "source": [
    "df_friends.rename(columns = {'TARGET': 'prob_friends'}, inplace = True)"
   ]
  },
  {
   "cell_type": "code",
   "execution_count": 87,
   "id": "c1db22c6-5aef-4c31-a79b-abdfcbd15d4d",
   "metadata": {},
   "outputs": [],
   "source": [
    "df_friends = df_friends.merge(df[['CLIENT_ID', 'proba']], how = 'left', left_on = 'CLIENT_ID', right_on = 'CLIENT_ID')"
   ]
  },
  {
   "cell_type": "code",
   "execution_count": 88,
   "id": "de68abce-3b26-49ed-b930-4125b72d00d3",
   "metadata": {},
   "outputs": [
    {
     "data": {
      "text/html": [
       "<div>\n",
       "<style scoped>\n",
       "    .dataframe tbody tr th:only-of-type {\n",
       "        vertical-align: middle;\n",
       "    }\n",
       "\n",
       "    .dataframe tbody tr th {\n",
       "        vertical-align: top;\n",
       "    }\n",
       "\n",
       "    .dataframe thead th {\n",
       "        text-align: right;\n",
       "    }\n",
       "</style>\n",
       "<table border=\"1\" class=\"dataframe\">\n",
       "  <thead>\n",
       "    <tr style=\"text-align: right;\">\n",
       "      <th></th>\n",
       "      <th>CLIENT_ID</th>\n",
       "      <th>prob_friends</th>\n",
       "      <th>proba</th>\n",
       "    </tr>\n",
       "  </thead>\n",
       "  <tbody>\n",
       "    <tr>\n",
       "      <th>0</th>\n",
       "      <td>1580286</td>\n",
       "      <td>0.184994</td>\n",
       "      <td>0.224819</td>\n",
       "    </tr>\n",
       "    <tr>\n",
       "      <th>1</th>\n",
       "      <td>68513</td>\n",
       "      <td>0.439955</td>\n",
       "      <td>0.252503</td>\n",
       "    </tr>\n",
       "    <tr>\n",
       "      <th>2</th>\n",
       "      <td>1579276</td>\n",
       "      <td>0.341905</td>\n",
       "      <td>0.297600</td>\n",
       "    </tr>\n",
       "    <tr>\n",
       "      <th>3</th>\n",
       "      <td>1531035</td>\n",
       "      <td>0.234297</td>\n",
       "      <td>0.257584</td>\n",
       "    </tr>\n",
       "    <tr>\n",
       "      <th>4</th>\n",
       "      <td>1547532</td>\n",
       "      <td>0.492014</td>\n",
       "      <td>0.220082</td>\n",
       "    </tr>\n",
       "    <tr>\n",
       "      <th>...</th>\n",
       "      <td>...</td>\n",
       "      <td>...</td>\n",
       "      <td>...</td>\n",
       "    </tr>\n",
       "    <tr>\n",
       "      <th>127427</th>\n",
       "      <td>60197</td>\n",
       "      <td>0.377049</td>\n",
       "      <td>0.313803</td>\n",
       "    </tr>\n",
       "    <tr>\n",
       "      <th>127428</th>\n",
       "      <td>60200</td>\n",
       "      <td>0.377049</td>\n",
       "      <td>0.310606</td>\n",
       "    </tr>\n",
       "    <tr>\n",
       "      <th>127429</th>\n",
       "      <td>69219</td>\n",
       "      <td>0.377049</td>\n",
       "      <td>0.337830</td>\n",
       "    </tr>\n",
       "    <tr>\n",
       "      <th>127430</th>\n",
       "      <td>69821</td>\n",
       "      <td>0.377049</td>\n",
       "      <td>0.393814</td>\n",
       "    </tr>\n",
       "    <tr>\n",
       "      <th>127431</th>\n",
       "      <td>70831</td>\n",
       "      <td>0.377049</td>\n",
       "      <td>0.298865</td>\n",
       "    </tr>\n",
       "  </tbody>\n",
       "</table>\n",
       "<p>127432 rows × 3 columns</p>\n",
       "</div>"
      ],
      "text/plain": [
       "        CLIENT_ID  prob_friends     proba\n",
       "0         1580286      0.184994  0.224819\n",
       "1           68513      0.439955  0.252503\n",
       "2         1579276      0.341905  0.297600\n",
       "3         1531035      0.234297  0.257584\n",
       "4         1547532      0.492014  0.220082\n",
       "...           ...           ...       ...\n",
       "127427      60197      0.377049  0.313803\n",
       "127428      60200      0.377049  0.310606\n",
       "127429      69219      0.377049  0.337830\n",
       "127430      69821      0.377049  0.393814\n",
       "127431      70831      0.377049  0.298865\n",
       "\n",
       "[127432 rows x 3 columns]"
      ]
     },
     "execution_count": 88,
     "metadata": {},
     "output_type": "execute_result"
    }
   ],
   "source": [
    "df_friends"
   ]
  },
  {
   "cell_type": "code",
   "execution_count": 89,
   "id": "4e7df2e5-ac83-46b7-94ea-54170e31cf3d",
   "metadata": {},
   "outputs": [
    {
     "data": {
      "text/plain": [
       "127432"
      ]
     },
     "execution_count": 89,
     "metadata": {},
     "output_type": "execute_result"
    }
   ],
   "source": [
    "df_train.shape[0] + df_val.shape[0]"
   ]
  },
  {
   "cell_type": "code",
   "execution_count": 90,
   "id": "73f067df-b125-4dab-967d-5e2880b21c77",
   "metadata": {},
   "outputs": [
    {
     "data": {
      "text/plain": [
       "(159288, 1015)"
      ]
     },
     "execution_count": 90,
     "metadata": {},
     "output_type": "execute_result"
    }
   ],
   "source": [
    "df_features.shape"
   ]
  },
  {
   "cell_type": "code",
   "execution_count": 91,
   "id": "79c2099e-6f5d-4739-992d-a8ed4de68839",
   "metadata": {},
   "outputs": [],
   "source": [
    "df_targets = pd.read_csv('./data/FINAL_TARGETS_DATES_TRAINTEST.tsv', sep = '\\t')"
   ]
  },
  {
   "cell_type": "code",
   "execution_count": 92,
   "id": "5d1af551-dee6-43bb-93b2-7808b5a57a77",
   "metadata": {},
   "outputs": [],
   "source": [
    "df_friends = df_friends.merge(df_targets, how = 'left', left_on = 'CLIENT_ID', right_on = 'CLIENT_ID')"
   ]
  },
  {
   "cell_type": "code",
   "execution_count": 93,
   "id": "a10b8a91-8628-4f70-a1d1-491518176e06",
   "metadata": {},
   "outputs": [],
   "source": [
    "df_friends.drop('RETRO_DT', axis = 1, inplace = True)"
   ]
  },
  {
   "cell_type": "code",
   "execution_count": 94,
   "id": "da5f59ae-01da-410b-9546-17f8285e215a",
   "metadata": {},
   "outputs": [
    {
     "data": {
      "text/html": [
       "<div>\n",
       "<style scoped>\n",
       "    .dataframe tbody tr th:only-of-type {\n",
       "        vertical-align: middle;\n",
       "    }\n",
       "\n",
       "    .dataframe tbody tr th {\n",
       "        vertical-align: top;\n",
       "    }\n",
       "\n",
       "    .dataframe thead th {\n",
       "        text-align: right;\n",
       "    }\n",
       "</style>\n",
       "<table border=\"1\" class=\"dataframe\">\n",
       "  <thead>\n",
       "    <tr style=\"text-align: right;\">\n",
       "      <th></th>\n",
       "      <th>CLIENT_ID</th>\n",
       "      <th>prob_friends</th>\n",
       "      <th>proba</th>\n",
       "      <th>TARGET</th>\n",
       "    </tr>\n",
       "  </thead>\n",
       "  <tbody>\n",
       "    <tr>\n",
       "      <th>0</th>\n",
       "      <td>1580286</td>\n",
       "      <td>0.184994</td>\n",
       "      <td>0.224819</td>\n",
       "      <td>0</td>\n",
       "    </tr>\n",
       "    <tr>\n",
       "      <th>1</th>\n",
       "      <td>68513</td>\n",
       "      <td>0.439955</td>\n",
       "      <td>0.252503</td>\n",
       "      <td>1</td>\n",
       "    </tr>\n",
       "    <tr>\n",
       "      <th>2</th>\n",
       "      <td>1579276</td>\n",
       "      <td>0.341905</td>\n",
       "      <td>0.297600</td>\n",
       "      <td>1</td>\n",
       "    </tr>\n",
       "    <tr>\n",
       "      <th>3</th>\n",
       "      <td>1531035</td>\n",
       "      <td>0.234297</td>\n",
       "      <td>0.257584</td>\n",
       "      <td>0</td>\n",
       "    </tr>\n",
       "    <tr>\n",
       "      <th>4</th>\n",
       "      <td>1547532</td>\n",
       "      <td>0.492014</td>\n",
       "      <td>0.220082</td>\n",
       "      <td>0</td>\n",
       "    </tr>\n",
       "    <tr>\n",
       "      <th>...</th>\n",
       "      <td>...</td>\n",
       "      <td>...</td>\n",
       "      <td>...</td>\n",
       "      <td>...</td>\n",
       "    </tr>\n",
       "    <tr>\n",
       "      <th>127427</th>\n",
       "      <td>60197</td>\n",
       "      <td>0.377049</td>\n",
       "      <td>0.313803</td>\n",
       "      <td>1</td>\n",
       "    </tr>\n",
       "    <tr>\n",
       "      <th>127428</th>\n",
       "      <td>60200</td>\n",
       "      <td>0.377049</td>\n",
       "      <td>0.310606</td>\n",
       "      <td>0</td>\n",
       "    </tr>\n",
       "    <tr>\n",
       "      <th>127429</th>\n",
       "      <td>69219</td>\n",
       "      <td>0.377049</td>\n",
       "      <td>0.337830</td>\n",
       "      <td>1</td>\n",
       "    </tr>\n",
       "    <tr>\n",
       "      <th>127430</th>\n",
       "      <td>69821</td>\n",
       "      <td>0.377049</td>\n",
       "      <td>0.393814</td>\n",
       "      <td>1</td>\n",
       "    </tr>\n",
       "    <tr>\n",
       "      <th>127431</th>\n",
       "      <td>70831</td>\n",
       "      <td>0.377049</td>\n",
       "      <td>0.298865</td>\n",
       "      <td>0</td>\n",
       "    </tr>\n",
       "  </tbody>\n",
       "</table>\n",
       "<p>127432 rows × 4 columns</p>\n",
       "</div>"
      ],
      "text/plain": [
       "        CLIENT_ID  prob_friends     proba TARGET\n",
       "0         1580286      0.184994  0.224819      0\n",
       "1           68513      0.439955  0.252503      1\n",
       "2         1579276      0.341905  0.297600      1\n",
       "3         1531035      0.234297  0.257584      0\n",
       "4         1547532      0.492014  0.220082      0\n",
       "...           ...           ...       ...    ...\n",
       "127427      60197      0.377049  0.313803      1\n",
       "127428      60200      0.377049  0.310606      0\n",
       "127429      69219      0.377049  0.337830      1\n",
       "127430      69821      0.377049  0.393814      1\n",
       "127431      70831      0.377049  0.298865      0\n",
       "\n",
       "[127432 rows x 4 columns]"
      ]
     },
     "execution_count": 94,
     "metadata": {},
     "output_type": "execute_result"
    }
   ],
   "source": [
    "df_friends"
   ]
  },
  {
   "cell_type": "code",
   "execution_count": 95,
   "id": "1f36bc47-dadf-4c45-872a-2c174ef12f9d",
   "metadata": {},
   "outputs": [
    {
     "data": {
      "text/plain": [
       "(25486, 219)"
      ]
     },
     "execution_count": 95,
     "metadata": {},
     "output_type": "execute_result"
    }
   ],
   "source": [
    "df_val.shape"
   ]
  },
  {
   "cell_type": "code",
   "execution_count": 96,
   "id": "4b6fd134-7843-465a-8b6f-e4ca3295d653",
   "metadata": {},
   "outputs": [],
   "source": [
    "x = df_friends.drop(['CLIENT_ID', 'TARGET'], axis = 1)\n",
    "y = df_friends['TARGET']\n",
    "\n",
    "x_train, x_test, y_train, y_test = train_test_split(x, y, test_size = 0.25)"
   ]
  },
  {
   "cell_type": "code",
   "execution_count": 97,
   "id": "238615df-d7d5-44fd-ac7d-f7a700f6b20b",
   "metadata": {},
   "outputs": [
    {
     "data": {
      "text/html": [
       "<style>#sk-container-id-6 {color: black;background-color: white;}#sk-container-id-6 pre{padding: 0;}#sk-container-id-6 div.sk-toggleable {background-color: white;}#sk-container-id-6 label.sk-toggleable__label {cursor: pointer;display: block;width: 100%;margin-bottom: 0;padding: 0.3em;box-sizing: border-box;text-align: center;}#sk-container-id-6 label.sk-toggleable__label-arrow:before {content: \"▸\";float: left;margin-right: 0.25em;color: #696969;}#sk-container-id-6 label.sk-toggleable__label-arrow:hover:before {color: black;}#sk-container-id-6 div.sk-estimator:hover label.sk-toggleable__label-arrow:before {color: black;}#sk-container-id-6 div.sk-toggleable__content {max-height: 0;max-width: 0;overflow: hidden;text-align: left;background-color: #f0f8ff;}#sk-container-id-6 div.sk-toggleable__content pre {margin: 0.2em;color: black;border-radius: 0.25em;background-color: #f0f8ff;}#sk-container-id-6 input.sk-toggleable__control:checked~div.sk-toggleable__content {max-height: 200px;max-width: 100%;overflow: auto;}#sk-container-id-6 input.sk-toggleable__control:checked~label.sk-toggleable__label-arrow:before {content: \"▾\";}#sk-container-id-6 div.sk-estimator input.sk-toggleable__control:checked~label.sk-toggleable__label {background-color: #d4ebff;}#sk-container-id-6 div.sk-label input.sk-toggleable__control:checked~label.sk-toggleable__label {background-color: #d4ebff;}#sk-container-id-6 input.sk-hidden--visually {border: 0;clip: rect(1px 1px 1px 1px);clip: rect(1px, 1px, 1px, 1px);height: 1px;margin: -1px;overflow: hidden;padding: 0;position: absolute;width: 1px;}#sk-container-id-6 div.sk-estimator {font-family: monospace;background-color: #f0f8ff;border: 1px dotted black;border-radius: 0.25em;box-sizing: border-box;margin-bottom: 0.5em;}#sk-container-id-6 div.sk-estimator:hover {background-color: #d4ebff;}#sk-container-id-6 div.sk-parallel-item::after {content: \"\";width: 100%;border-bottom: 1px solid gray;flex-grow: 1;}#sk-container-id-6 div.sk-label:hover label.sk-toggleable__label {background-color: #d4ebff;}#sk-container-id-6 div.sk-serial::before {content: \"\";position: absolute;border-left: 1px solid gray;box-sizing: border-box;top: 0;bottom: 0;left: 50%;z-index: 0;}#sk-container-id-6 div.sk-serial {display: flex;flex-direction: column;align-items: center;background-color: white;padding-right: 0.2em;padding-left: 0.2em;position: relative;}#sk-container-id-6 div.sk-item {position: relative;z-index: 1;}#sk-container-id-6 div.sk-parallel {display: flex;align-items: stretch;justify-content: center;background-color: white;position: relative;}#sk-container-id-6 div.sk-item::before, #sk-container-id-6 div.sk-parallel-item::before {content: \"\";position: absolute;border-left: 1px solid gray;box-sizing: border-box;top: 0;bottom: 0;left: 50%;z-index: -1;}#sk-container-id-6 div.sk-parallel-item {display: flex;flex-direction: column;z-index: 1;position: relative;background-color: white;}#sk-container-id-6 div.sk-parallel-item:first-child::after {align-self: flex-end;width: 50%;}#sk-container-id-6 div.sk-parallel-item:last-child::after {align-self: flex-start;width: 50%;}#sk-container-id-6 div.sk-parallel-item:only-child::after {width: 0;}#sk-container-id-6 div.sk-dashed-wrapped {border: 1px dashed gray;margin: 0 0.4em 0.5em 0.4em;box-sizing: border-box;padding-bottom: 0.4em;background-color: white;}#sk-container-id-6 div.sk-label label {font-family: monospace;font-weight: bold;display: inline-block;line-height: 1.2em;}#sk-container-id-6 div.sk-label-container {text-align: center;}#sk-container-id-6 div.sk-container {/* jupyter's `normalize.less` sets `[hidden] { display: none; }` but bootstrap.min.css set `[hidden] { display: none !important; }` so we also need the `!important` here to be able to override the default hidden behavior on the sphinx rendered scikit-learn.org. See: https://github.com/scikit-learn/scikit-learn/issues/21755 */display: inline-block !important;position: relative;}#sk-container-id-6 div.sk-text-repr-fallback {display: none;}</style><div id=\"sk-container-id-6\" class=\"sk-top-container\"><div class=\"sk-text-repr-fallback\"><pre>LogisticRegression()</pre><b>In a Jupyter environment, please rerun this cell to show the HTML representation or trust the notebook. <br />On GitHub, the HTML representation is unable to render, please try loading this page with nbviewer.org.</b></div><div class=\"sk-container\" hidden><div class=\"sk-item\"><div class=\"sk-estimator sk-toggleable\"><input class=\"sk-toggleable__control sk-hidden--visually\" id=\"sk-estimator-id-6\" type=\"checkbox\" checked><label for=\"sk-estimator-id-6\" class=\"sk-toggleable__label sk-toggleable__label-arrow\">LogisticRegression</label><div class=\"sk-toggleable__content\"><pre>LogisticRegression()</pre></div></div></div></div></div>"
      ],
      "text/plain": [
       "LogisticRegression()"
      ]
     },
     "execution_count": 97,
     "metadata": {},
     "output_type": "execute_result"
    }
   ],
   "source": [
    "model_blend = LogisticRegression()\n",
    "model_blend.fit(x_train, y_train)"
   ]
  },
  {
   "cell_type": "code",
   "execution_count": 98,
   "id": "2f490eb2-d1d6-4640-9926-046ccec75c06",
   "metadata": {},
   "outputs": [
    {
     "data": {
      "text/plain": [
       "0.91440518376026"
      ]
     },
     "execution_count": 98,
     "metadata": {},
     "output_type": "execute_result"
    }
   ],
   "source": [
    "roc_auc_score(y_train, model_blend.predict_proba(x_train)[:, 1])"
   ]
  },
  {
   "cell_type": "code",
   "execution_count": 99,
   "id": "264fd89b-a24e-443d-befb-a5803d6a1cb8",
   "metadata": {},
   "outputs": [
    {
     "data": {
      "text/plain": [
       "0.9161909225164502"
      ]
     },
     "execution_count": 99,
     "metadata": {},
     "output_type": "execute_result"
    }
   ],
   "source": [
    "roc_auc_score(y_test, model_blend.predict_proba(x_test)[:, 1])"
   ]
  },
  {
   "cell_type": "code",
   "execution_count": 100,
   "id": "88a4dcbb-c37d-4ee7-b996-8d09d4809bee",
   "metadata": {},
   "outputs": [],
   "source": [
    "df_test = pd.read_csv('./data/clean_data/TEST_TARGETS_DATES.csv', sep = ',')"
   ]
  },
  {
   "cell_type": "code",
   "execution_count": 101,
   "id": "d984f840-3c97-4c94-aa95-2f69b682b162",
   "metadata": {},
   "outputs": [],
   "source": [
    "df_test = df_test.merge(df_features, how = 'left', left_on = 'CLIENT_ID', right_on = 'CLIENT_ID')"
   ]
  },
  {
   "cell_type": "code",
   "execution_count": 102,
   "id": "bf721a68-4abb-479c-bcca-6df0d49ab2ed",
   "metadata": {},
   "outputs": [],
   "source": [
    "df_test.drop(['RETRO_DT', 'TARGET'], axis = 1, inplace = True)"
   ]
  },
  {
   "cell_type": "code",
   "execution_count": 104,
   "id": "a3c549d7-ef40-4303-b7d1-e819b11bd518",
   "metadata": {},
   "outputs": [],
   "source": [
    "df_test['proba']=model.predict_proba(df_test[model.feature_name_])[:, 1]"
   ]
  },
  {
   "cell_type": "code",
   "execution_count": 108,
   "id": "45c8be2f-6781-4ccb-bccc-83c26ae2c426",
   "metadata": {},
   "outputs": [
    {
     "data": {
      "text/html": [
       "<div>\n",
       "<style scoped>\n",
       "    .dataframe tbody tr th:only-of-type {\n",
       "        vertical-align: middle;\n",
       "    }\n",
       "\n",
       "    .dataframe tbody tr th {\n",
       "        vertical-align: top;\n",
       "    }\n",
       "\n",
       "    .dataframe thead th {\n",
       "        text-align: right;\n",
       "    }\n",
       "</style>\n",
       "<table border=\"1\" class=\"dataframe\">\n",
       "  <thead>\n",
       "    <tr style=\"text-align: right;\">\n",
       "      <th></th>\n",
       "      <th>CLIENT_ID</th>\n",
       "      <th>proba</th>\n",
       "    </tr>\n",
       "  </thead>\n",
       "  <tbody>\n",
       "    <tr>\n",
       "      <th>0</th>\n",
       "      <td>1025140</td>\n",
       "      <td>0.367665</td>\n",
       "    </tr>\n",
       "    <tr>\n",
       "      <th>1</th>\n",
       "      <td>1029732</td>\n",
       "      <td>0.331300</td>\n",
       "    </tr>\n",
       "    <tr>\n",
       "      <th>2</th>\n",
       "      <td>1079794</td>\n",
       "      <td>0.245140</td>\n",
       "    </tr>\n",
       "    <tr>\n",
       "      <th>3</th>\n",
       "      <td>1116331</td>\n",
       "      <td>0.253892</td>\n",
       "    </tr>\n",
       "    <tr>\n",
       "      <th>4</th>\n",
       "      <td>1136822</td>\n",
       "      <td>0.252879</td>\n",
       "    </tr>\n",
       "    <tr>\n",
       "      <th>...</th>\n",
       "      <td>...</td>\n",
       "      <td>...</td>\n",
       "    </tr>\n",
       "    <tr>\n",
       "      <th>31853</th>\n",
       "      <td>70294</td>\n",
       "      <td>0.425494</td>\n",
       "    </tr>\n",
       "    <tr>\n",
       "      <th>31854</th>\n",
       "      <td>71247</td>\n",
       "      <td>0.343590</td>\n",
       "    </tr>\n",
       "    <tr>\n",
       "      <th>31855</th>\n",
       "      <td>71657</td>\n",
       "      <td>0.251240</td>\n",
       "    </tr>\n",
       "    <tr>\n",
       "      <th>31856</th>\n",
       "      <td>72631</td>\n",
       "      <td>0.226346</td>\n",
       "    </tr>\n",
       "    <tr>\n",
       "      <th>31857</th>\n",
       "      <td>72642</td>\n",
       "      <td>0.223710</td>\n",
       "    </tr>\n",
       "  </tbody>\n",
       "</table>\n",
       "<p>31858 rows × 2 columns</p>\n",
       "</div>"
      ],
      "text/plain": [
       "       CLIENT_ID     proba\n",
       "0        1025140  0.367665\n",
       "1        1029732  0.331300\n",
       "2        1079794  0.245140\n",
       "3        1116331  0.253892\n",
       "4        1136822  0.252879\n",
       "...          ...       ...\n",
       "31853      70294  0.425494\n",
       "31854      71247  0.343590\n",
       "31855      71657  0.251240\n",
       "31856      72631  0.226346\n",
       "31857      72642  0.223710\n",
       "\n",
       "[31858 rows x 2 columns]"
      ]
     },
     "execution_count": 108,
     "metadata": {},
     "output_type": "execute_result"
    }
   ],
   "source": [
    "df_test[['CLIENT_ID', 'proba']]"
   ]
  },
  {
   "cell_type": "code",
   "execution_count": 109,
   "id": "131ab48a-2bd6-4dd5-9646-b6630fbb32a2",
   "metadata": {},
   "outputs": [],
   "source": [
    "test_friend = pd.read_csv('test_friends_submition.csv', sep = ',')"
   ]
  },
  {
   "cell_type": "code",
   "execution_count": 110,
   "id": "fa4778a0-0e87-44cd-b646-091c791e8971",
   "metadata": {},
   "outputs": [
    {
     "data": {
      "text/html": [
       "<div>\n",
       "<style scoped>\n",
       "    .dataframe tbody tr th:only-of-type {\n",
       "        vertical-align: middle;\n",
       "    }\n",
       "\n",
       "    .dataframe tbody tr th {\n",
       "        vertical-align: top;\n",
       "    }\n",
       "\n",
       "    .dataframe thead th {\n",
       "        text-align: right;\n",
       "    }\n",
       "</style>\n",
       "<table border=\"1\" class=\"dataframe\">\n",
       "  <thead>\n",
       "    <tr style=\"text-align: right;\">\n",
       "      <th></th>\n",
       "      <th>CLIENT_ID</th>\n",
       "      <th>TARGET</th>\n",
       "    </tr>\n",
       "  </thead>\n",
       "  <tbody>\n",
       "    <tr>\n",
       "      <th>0</th>\n",
       "      <td>1025140</td>\n",
       "      <td>0.475807</td>\n",
       "    </tr>\n",
       "    <tr>\n",
       "      <th>1</th>\n",
       "      <td>1029732</td>\n",
       "      <td>0.556455</td>\n",
       "    </tr>\n",
       "    <tr>\n",
       "      <th>2</th>\n",
       "      <td>1079794</td>\n",
       "      <td>0.593034</td>\n",
       "    </tr>\n",
       "    <tr>\n",
       "      <th>3</th>\n",
       "      <td>1136822</td>\n",
       "      <td>0.020654</td>\n",
       "    </tr>\n",
       "    <tr>\n",
       "      <th>4</th>\n",
       "      <td>114541</td>\n",
       "      <td>0.140779</td>\n",
       "    </tr>\n",
       "    <tr>\n",
       "      <th>...</th>\n",
       "      <td>...</td>\n",
       "      <td>...</td>\n",
       "    </tr>\n",
       "    <tr>\n",
       "      <th>31853</th>\n",
       "      <td>53446</td>\n",
       "      <td>0.370026</td>\n",
       "    </tr>\n",
       "    <tr>\n",
       "      <th>31854</th>\n",
       "      <td>57109</td>\n",
       "      <td>0.370026</td>\n",
       "    </tr>\n",
       "    <tr>\n",
       "      <th>31855</th>\n",
       "      <td>57114</td>\n",
       "      <td>0.370026</td>\n",
       "    </tr>\n",
       "    <tr>\n",
       "      <th>31856</th>\n",
       "      <td>68831</td>\n",
       "      <td>0.370026</td>\n",
       "    </tr>\n",
       "    <tr>\n",
       "      <th>31857</th>\n",
       "      <td>72642</td>\n",
       "      <td>0.370026</td>\n",
       "    </tr>\n",
       "  </tbody>\n",
       "</table>\n",
       "<p>31858 rows × 2 columns</p>\n",
       "</div>"
      ],
      "text/plain": [
       "       CLIENT_ID    TARGET\n",
       "0        1025140  0.475807\n",
       "1        1029732  0.556455\n",
       "2        1079794  0.593034\n",
       "3        1136822  0.020654\n",
       "4         114541  0.140779\n",
       "...          ...       ...\n",
       "31853      53446  0.370026\n",
       "31854      57109  0.370026\n",
       "31855      57114  0.370026\n",
       "31856      68831  0.370026\n",
       "31857      72642  0.370026\n",
       "\n",
       "[31858 rows x 2 columns]"
      ]
     },
     "execution_count": 110,
     "metadata": {},
     "output_type": "execute_result"
    }
   ],
   "source": [
    "test_friend"
   ]
  },
  {
   "cell_type": "code",
   "execution_count": 111,
   "id": "c291cc51-ccba-4aa7-ac9f-eadbc1256e93",
   "metadata": {},
   "outputs": [],
   "source": [
    "test_friend.rename(columns = {'TARGET': 'prob_friends'}, inplace = True)"
   ]
  },
  {
   "cell_type": "code",
   "execution_count": 112,
   "id": "3b0476d1-46eb-4726-8334-283921a589a1",
   "metadata": {},
   "outputs": [],
   "source": [
    "test_friend = test_friend.merge(df_test[['CLIENT_ID', 'proba']], how = 'left', left_on = 'CLIENT_ID', right_on = 'CLIENT_ID')"
   ]
  },
  {
   "cell_type": "code",
   "execution_count": 119,
   "id": "61a8b84b-043c-46c4-a57d-7ff3cffa508c",
   "metadata": {},
   "outputs": [
    {
     "name": "stderr",
     "output_type": "stream",
     "text": [
      "/tmp/ipykernel_5471/3943253344.py:2: SettingWithCopyWarning: \n",
      "A value is trying to be set on a copy of a slice from a DataFrame.\n",
      "Try using .loc[row_indexer,col_indexer] = value instead\n",
      "\n",
      "See the caveats in the documentation: https://pandas.pydata.org/pandas-docs/stable/user_guide/indexing.html#returning-a-view-versus-a-copy\n",
      "  df_subm['TARGET'] = model_blend.predict_proba(test_friend.drop('CLIENT_ID', axis = 1))[:, 1]\n"
     ]
    }
   ],
   "source": [
    "df_subm = df_test[['CLIENT_ID']]\n",
    "df_subm['TARGET'] = model_blend.predict_proba(test_friend.drop('CLIENT_ID', axis = 1))[:, 1]"
   ]
  },
  {
   "cell_type": "code",
   "execution_count": 121,
   "id": "0ccdddc5-3705-4b44-9c5a-d6232b4991db",
   "metadata": {},
   "outputs": [],
   "source": [
    "df_subm.to_csv('new-subm.csv', index = False)"
   ]
  },
  {
   "cell_type": "code",
   "execution_count": null,
   "id": "930f3a7d-fcd2-4856-b8e4-9bf89122fa3a",
   "metadata": {},
   "outputs": [],
   "source": []
  }
 ],
 "metadata": {
  "kernelspec": {
   "display_name": "Python 3 (ipykernel)",
   "language": "python",
   "name": "python3"
  },
  "language_info": {
   "codemirror_mode": {
    "name": "ipython",
    "version": 3
   },
   "file_extension": ".py",
   "mimetype": "text/x-python",
   "name": "python",
   "nbconvert_exporter": "python",
   "pygments_lexer": "ipython3",
   "version": "3.9.7"
  }
 },
 "nbformat": 4,
 "nbformat_minor": 5
}
