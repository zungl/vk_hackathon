{
 "cells": [
  {
   "cell_type": "code",
   "execution_count": null,
   "id": "60fc659d-bad7-41d7-b31b-36dc2d43308a",
   "metadata": {},
   "outputs": [
    {
     "name": "stdout",
     "output_type": "stream",
     "text": [
      "--2022-09-23 13:42:47--  https://ai-data.obs.ru-moscow-1.hc.sbercloud.ru/%D0%9C%D0%9E_%D0%BD%D0%B0_%D0%B3%D1%80%D0%B0%D1%84%D0%B0%D1%85.zip\n",
      "Resolving ai-data.obs.ru-moscow-1.hc.sbercloud.ru (ai-data.obs.ru-moscow-1.hc.sbercloud.ru)... 46.243.206.35, 46.243.206.34\n",
      "Connecting to ai-data.obs.ru-moscow-1.hc.sbercloud.ru (ai-data.obs.ru-moscow-1.hc.sbercloud.ru)|46.243.206.35|:443... connected.\n",
      "HTTP request sent, awaiting response... 200 OK\n",
      "Length: 3399326506 (3.2G) [application/zip]\n",
      "Saving to: ‘МО_на_графах.zip’\n",
      "\n",
      "МО_на_графах.zip     97%[==================> ]   3.08G  49.5MB/s    eta 2s     "
     ]
    }
   ],
   "source": [
    "!wget https://ai-data.obs.ru-moscow-1.hc.sbercloud.ru/МО_на_графах.zip -O МО_на_графах.zip"
   ]
  },
  {
   "cell_type": "code",
   "execution_count": 1,
   "id": "64394452-5d1f-4356-b45c-4c79731c948f",
   "metadata": {},
   "outputs": [],
   "source": [
    "from zipfile import ZipFile\n",
    "from tqdm.notebook import tqdm_notebook"
   ]
  },
  {
   "cell_type": "code",
   "execution_count": 2,
   "id": "c96d7944-67f1-4b2d-9cec-4ed3f4f707be",
   "metadata": {},
   "outputs": [
    {
     "data": {
      "application/vnd.jupyter.widget-view+json": {
       "model_id": "31033c1926534264bc9dfe691b2c91f5",
       "version_major": 2,
       "version_minor": 0
      },
      "text/plain": [
       "  0%|          | 0/3 [00:00<?, ?it/s]"
      ]
     },
     "metadata": {},
     "output_type": "display_data"
    }
   ],
   "source": [
    "zf = ZipFile(\"data/hackathon_mos_sep2022.zip\")\n",
    "\n",
    "for file in tqdm_notebook(zf.infolist()[2:]): \n",
    "    zf.extract(file) \n"
   ]
  }
 ],
 "metadata": {
  "kernelspec": {
   "display_name": "Python 3 (ipykernel)",
   "language": "python",
   "name": "python3"
  },
  "language_info": {
   "codemirror_mode": {
    "name": "ipython",
    "version": 3
   },
   "file_extension": ".py",
   "mimetype": "text/x-python",
   "name": "python",
   "nbconvert_exporter": "python",
   "pygments_lexer": "ipython3",
   "version": "3.10.1"
  }
 },
 "nbformat": 4,
 "nbformat_minor": 5
}
