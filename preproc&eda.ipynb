{
 "cells": [
  {
   "cell_type": "code",
   "execution_count": 348,
   "id": "f5cd7855-a16a-49c1-b137-cf2fcf0632e7",
   "metadata": {},
   "outputs": [],
   "source": [
    "import pandas as pd \n",
    "import numpy as np \n",
    "\n",
    "import csv\n",
    "import matplotlib.pyplot as plt\n",
    "import tqdm\n",
    "from tqdm.notebook import tqdm_notebook\n",
    "import itertools"
   ]
  },
  {
   "cell_type": "code",
   "execution_count": 29,
   "id": "bb5630c8-ed97-45c4-83a0-817c8d560eb2",
   "metadata": {},
   "outputs": [],
   "source": [
    "from zipfile import ZipFile \n",
    "\n",
    "from os import listdir\n",
    "from tqdm.notebook import tqdm_notebook\n",
    "from pathlib import Path "
   ]
  },
  {
   "cell_type": "code",
   "execution_count": 61,
   "id": "34837199-6968-4e7c-b522-167d6e968719",
   "metadata": {},
   "outputs": [],
   "source": [
    "base = Path(\"./data\")\n",
    "path2friends = base / \"FINAL_FEATURES_FRIENDS.tsv\"\n",
    "path2features = base/ \"FINAL_FEATURES_TRAINTEST.tsv\"\n",
    "path2seqmatrix = base / \"FINAL_SEQUENCES_MATRIX.tsv\"\n",
    "path2targets = base / \"FINAL_TARGETS_DATES_TRAINTEST.tsv\"\n",
    "path2allsequences = base / \"FINAL_ALL_SEQUENCES_TRAINTEST.tsv\""
   ]
  },
  {
   "cell_type": "markdown",
   "id": "80f2439c",
   "metadata": {},
   "source": [
    "## Обработка таблиц с размеченными CLIENT_ID\n",
    "### И таблиц с сессиями"
   ]
  },
  {
   "cell_type": "code",
   "execution_count": 114,
   "id": "7854c4c5-d01c-4012-962a-4036795ae50d",
   "metadata": {},
   "outputs": [],
   "source": [
    "seq_matrix_df = pd.read_csv('./data/FINAL_SEQUENCES_MATRIX.tsv', \n",
    "                         sep=\";\")\n",
    "seq_matrix = seq_matrix_df.SESSIONS_SEQUENCES.apply(eval)"
   ]
  },
  {
   "cell_type": "code",
   "execution_count": 413,
   "id": "8d2c4ec4-b8a3-4b25-95e0-823dc564ea22",
   "metadata": {},
   "outputs": [],
   "source": [
    "targets_dates_traintest_df = pd.read_csv('./data/FINAL_TARGETS_DATES_TRAINTEST.tsv', \n",
    "                         sep=\"\\t\")\n",
    "targets_dates_traintest_df['TARGET'].unique()\n",
    "\n",
    "targets_dates_traintest_df[targets_dates_traintest_df['TARGET'] == 'test'].to_csv(str('./data/clean_data/TEST_TARGETS_DATES.csv'), index=None)\n",
    "targets_dates_traintest_not_test_df = targets_dates_traintest_df[targets_dates_traintest_df['TARGET'] != 'test']\n",
    "\n",
    "train_df=targets_dates_traintest_not_test_df.sample(frac=0.8,random_state=42)\n",
    "val_df=targets_dates_traintest_not_test_df.drop(train_df.index)\n",
    "\n",
    "train_df.reset_index(drop=True).to_csv(str('./data/clean_data/TRAIN_TARGETS_DATES.csv'), index=None)\n",
    "val_df.reset_index(drop=True).to_csv(str('./data/clean_data/VAL_TARGETS_DATES.csv'), index=None)"
   ]
  },
  {
   "cell_type": "code",
   "execution_count": 93,
   "id": "7d20c3b7-5d21-43e2-b70c-35b75dcf886f",
   "metadata": {},
   "outputs": [],
   "source": [
    "def code_to_dict(seq_matrix):\n",
    "    dict_int = dict()\n",
    "    for seq in tqdm_notebook(seq_matrix.to_list()):\n",
    "        for code in seq:\n",
    "            if code not in dict_int.keys():\n",
    "                dict_int[code] = 1\n",
    "            else:\n",
    "                dict_int[code] += 1\n",
    "    return dict_int"
   ]
  },
  {
   "cell_type": "code",
   "execution_count": 94,
   "id": "2e613d45-6327-4306-b712-20d9ac363e5f",
   "metadata": {},
   "outputs": [
    {
     "data": {
      "application/vnd.jupyter.widget-view+json": {
       "model_id": "b9addf74fdd94465a4c83cb2f690f96a",
       "version_major": 2,
       "version_minor": 0
      },
      "text/plain": [
       "  0%|          | 0/1489576 [00:00<?, ?it/s]"
      ]
     },
     "metadata": {},
     "output_type": "display_data"
    }
   ],
   "source": [
    "seq_matrix_dict_of_code = code_to_dict(seq_matrix=seq_matrix)"
   ]
  },
  {
   "cell_type": "code",
   "execution_count": 77,
   "id": "15223ccb-cf83-4b23-936e-bb76799483e2",
   "metadata": {},
   "outputs": [
    {
     "name": "stdout",
     "output_type": "stream",
     "text": [
      "Процент отношения количества сессий на кол-во уникальных\n",
      "0.012734640825245952\n"
     ]
    }
   ],
   "source": [
    "print('Процент отношения кол-ва уникальных сессий на сессий всего')\n",
    "print(len(seq_matrix_dict_of_code)/seq_matrix_dict_of_code.apply(len).sum())"
   ]
  },
  {
   "cell_type": "code",
   "execution_count": 105,
   "id": "0b3323c0-5c91-4ce2-892f-04a608351ad3",
   "metadata": {},
   "outputs": [],
   "source": [
    "all_seq_matrix_df = pd.read_csv('./data/FINAL_ALL_SEQUENCES_TRAINTEST.tsv',\n",
    "                         sep=\"\\t\")\n",
    "all_seq_matrix = all_seq_matrix_df.SEQUENCE.apply(eval)"
   ]
  },
  {
   "cell_type": "code",
   "execution_count": 87,
   "id": "5098115b",
   "metadata": {},
   "outputs": [
    {
     "data": {
      "application/vnd.jupyter.widget-view+json": {
       "model_id": "8a5898cf4d634b77af2bab1a688e800e",
       "version_major": 2,
       "version_minor": 0
      },
      "text/plain": [
       "  0%|          | 0/123707 [00:00<?, ?it/s]"
      ]
     },
     "metadata": {},
     "output_type": "display_data"
    }
   ],
   "source": [
    "all_seq_matrix_dict_of_code = code_to_dict(seq_matrix=all_seq_matrix)"
   ]
  },
  {
   "cell_type": "code",
   "execution_count": 102,
   "id": "854d3a73",
   "metadata": {},
   "outputs": [
    {
     "name": "stdout",
     "output_type": "stream",
     "text": [
      "FINAL_SEQUENCES_MATRIX        444063\n",
      "FINAL_ALL_SEQUENCES_TRAINTEST 153528\n",
      "INTERSECTION                  102741\n"
     ]
    }
   ],
   "source": [
    "print(f'FINAL_SEQUENCES_MATRIX        {len(set(seq_matrix_dict_of_code.keys()))}')\n",
    "print(f'FINAL_ALL_SEQUENCES_TRAINTEST {len(set(all_seq_matrix_dict_of_code.keys()))}')\n",
    "print(f'INTERSECTION                  {len(set(all_seq_matrix_dict_of_code.keys()) & set(seq_matrix_dict_of_code.keys()))}')"
   ]
  },
  {
   "cell_type": "code",
   "execution_count": 112,
   "id": "fc438217",
   "metadata": {},
   "outputs": [
    {
     "data": {
      "text/plain": [
       "True"
      ]
     },
     "execution_count": 112,
     "metadata": {},
     "output_type": "execute_result"
    }
   ],
   "source": [
    "len(all_seq_matrix_df['CLIENT_ID'].unique()) == len(all_seq_matrix_df)"
   ]
  },
  {
   "cell_type": "markdown",
   "id": "20edc14d",
   "metadata": {},
   "source": [
    "## final features friends\n",
    "### Таблица с \"графом\" друзей и фичами связей"
   ]
  },
  {
   "cell_type": "code",
   "execution_count": 5,
   "id": "252cdf4a",
   "metadata": {},
   "outputs": [
    {
     "data": {
      "text/plain": [
       "('999819', '99981973\\n')"
      ]
     },
     "execution_count": 5,
     "metadata": {},
     "output_type": "execute_result"
    }
   ],
   "source": [
    "with open('./data/FINAL_FEATURES_FRIENDS.tsv', 'r+') as f:\n",
    "\n",
    "    next(f)\n",
    "    line = f.readline()\n",
    "line.split('\\t')[0], line.split('\\t')[-1]"
   ]
  },
  {
   "cell_type": "code",
   "execution_count": 305,
   "id": "1e398f61",
   "metadata": {},
   "outputs": [
    {
     "data": {
      "application/vnd.jupyter.widget-view+json": {
       "model_id": "24cf2909ad5643319300dc33ab6dbab7",
       "version_major": 2,
       "version_minor": 0
      },
      "text/plain": [
       "0it [00:00, ?it/s]"
      ]
     },
     "metadata": {},
     "output_type": "display_data"
    },
    {
     "name": "stdout",
     "output_type": "stream",
     "text": [
      "Wall time: 43min 59s\n"
     ]
    }
   ],
   "source": [
    "%%time\n",
    "N = 1000000\n",
    "lines = []\n",
    "clients_friends = dict()\n",
    "clients_friends_count = dict()\n",
    "clients_friends_features = dict()\n",
    "\n",
    "with open('./data/FINAL_FEATURES_FRIENDS.tsv', 'r+') as f:\n",
    "\n",
    "    next(f)\n",
    "    for line in tqdm_notebook(f):\n",
    "        line = list(map(lambda x: float(x), line.split('\\t')))\n",
    "        client_id = int(line[0])\n",
    "        friend_id = int(line[-1])\n",
    "        if client_id in clients_friends.keys():\n",
    "            clients_friends[client_id].append(friend_id)\n",
    "            clients_friends_features[client_id] += np.array(line[1:-1])\n",
    "            clients_friends_count[client_id] += 1\n",
    "        else:\n",
    "            clients_friends[client_id] = [friend_id]\n",
    "            clients_friends_features[client_id] = np.array(line[1:-1])\n",
    "            clients_friends_count[client_id] = 1"
   ]
  },
  {
   "cell_type": "code",
   "execution_count": 306,
   "id": "23ac8aa1",
   "metadata": {},
   "outputs": [],
   "source": [
    "import pickle\n",
    "with open('./data/clean_data/clients_friends.pickle', 'wb') as handle:\n",
    "    pickle.dump(clients_friends, handle, protocol=pickle.HIGHEST_PROTOCOL)\n",
    "with open('./data/clean_data/clients_friends_count.pickle', 'wb') as handle:\n",
    "    pickle.dump(clients_friends_count, handle, protocol=pickle.HIGHEST_PROTOCOL)\n",
    "with open('./data/clean_data/clients_friends_features.pickle', 'wb') as handle:\n",
    "    pickle.dump(clients_friends_features, handle, protocol=pickle.HIGHEST_PROTOCOL)"
   ]
  },
  {
   "cell_type": "code",
   "execution_count": 316,
   "id": "c5707e39",
   "metadata": {},
   "outputs": [
    {
     "data": {
      "text/plain": [
       "130561"
      ]
     },
     "execution_count": 316,
     "metadata": {},
     "output_type": "execute_result"
    }
   ],
   "source": [
    "## Кол-во клиентов с данными о друзьях\n",
    "len(clients_friends_count.keys())"
   ]
  },
  {
   "cell_type": "code",
   "execution_count": 331,
   "id": "46d81229",
   "metadata": {},
   "outputs": [
    {
     "data": {
      "text/html": [
       "<div>\n",
       "<style scoped>\n",
       "    .dataframe tbody tr th:only-of-type {\n",
       "        vertical-align: middle;\n",
       "    }\n",
       "\n",
       "    .dataframe tbody tr th {\n",
       "        vertical-align: top;\n",
       "    }\n",
       "\n",
       "    .dataframe thead th {\n",
       "        text-align: right;\n",
       "    }\n",
       "</style>\n",
       "<table border=\"1\" class=\"dataframe\">\n",
       "  <thead>\n",
       "    <tr style=\"text-align: right;\">\n",
       "      <th></th>\n",
       "      <th>CLIENT_ID</th>\n",
       "      <th>FRIENDS_COUNT</th>\n",
       "    </tr>\n",
       "  </thead>\n",
       "  <tbody>\n",
       "    <tr>\n",
       "      <th>0</th>\n",
       "      <td>999819</td>\n",
       "      <td>80</td>\n",
       "    </tr>\n",
       "    <tr>\n",
       "      <th>1</th>\n",
       "      <td>99978</td>\n",
       "      <td>100</td>\n",
       "    </tr>\n",
       "  </tbody>\n",
       "</table>\n",
       "</div>"
      ],
      "text/plain": [
       "   CLIENT_ID  FRIENDS_COUNT\n",
       "0     999819             80\n",
       "1      99978            100"
      ]
     },
     "execution_count": 331,
     "metadata": {},
     "output_type": "execute_result"
    }
   ],
   "source": [
    "clients_friends_count_df = pd.DataFrame({k: [v] for k,v in clients_friends_count.items()}).T\n",
    "clients_friends_count_df = clients_friends_count_df.reset_index()\n",
    "clients_friends_count_df = clients_friends_count_df.rename({0: 'FRIENDS_COUNT', 'index': 'CLIENT_ID'}, axis = 1)\n",
    "clients_friends_count_df.to_csv('./data/clean_data/clients_friends_count.csv')\n",
    "clients_friends_count_df.head(2)"
   ]
  },
  {
   "cell_type": "code",
   "execution_count": 318,
   "id": "42120aaa",
   "metadata": {},
   "outputs": [
    {
     "data": {
      "text/html": [
       "<div>\n",
       "<style scoped>\n",
       "    .dataframe tbody tr th:only-of-type {\n",
       "        vertical-align: middle;\n",
       "    }\n",
       "\n",
       "    .dataframe tbody tr th {\n",
       "        vertical-align: top;\n",
       "    }\n",
       "\n",
       "    .dataframe thead th {\n",
       "        text-align: right;\n",
       "    }\n",
       "</style>\n",
       "<table border=\"1\" class=\"dataframe\">\n",
       "  <thead>\n",
       "    <tr style=\"text-align: right;\">\n",
       "      <th></th>\n",
       "      <th>CLIENT_ID</th>\n",
       "      <th>0</th>\n",
       "      <th>1</th>\n",
       "      <th>2</th>\n",
       "      <th>3</th>\n",
       "      <th>4</th>\n",
       "      <th>5</th>\n",
       "      <th>6</th>\n",
       "      <th>7</th>\n",
       "      <th>8</th>\n",
       "      <th>...</th>\n",
       "      <th>1004</th>\n",
       "      <th>1005</th>\n",
       "      <th>1006</th>\n",
       "      <th>1007</th>\n",
       "      <th>1008</th>\n",
       "      <th>1009</th>\n",
       "      <th>1010</th>\n",
       "      <th>1011</th>\n",
       "      <th>1012</th>\n",
       "      <th>1013</th>\n",
       "    </tr>\n",
       "  </thead>\n",
       "  <tbody>\n",
       "    <tr>\n",
       "      <th>0</th>\n",
       "      <td>999819</td>\n",
       "      <td>0.0</td>\n",
       "      <td>1310.0</td>\n",
       "      <td>6879.0</td>\n",
       "      <td>52.0</td>\n",
       "      <td>473.0</td>\n",
       "      <td>504.0</td>\n",
       "      <td>2413.0</td>\n",
       "      <td>0.0</td>\n",
       "      <td>60.0</td>\n",
       "      <td>...</td>\n",
       "      <td>125.0</td>\n",
       "      <td>72.0</td>\n",
       "      <td>263.0</td>\n",
       "      <td>0.0</td>\n",
       "      <td>0.0</td>\n",
       "      <td>316.0</td>\n",
       "      <td>0.0</td>\n",
       "      <td>0.0</td>\n",
       "      <td>0.0</td>\n",
       "      <td>0.0</td>\n",
       "    </tr>\n",
       "    <tr>\n",
       "      <th>1</th>\n",
       "      <td>99978</td>\n",
       "      <td>0.0</td>\n",
       "      <td>964.0</td>\n",
       "      <td>5932.0</td>\n",
       "      <td>58.0</td>\n",
       "      <td>308.0</td>\n",
       "      <td>309.0</td>\n",
       "      <td>1160.0</td>\n",
       "      <td>0.0</td>\n",
       "      <td>10.0</td>\n",
       "      <td>...</td>\n",
       "      <td>0.0</td>\n",
       "      <td>0.0</td>\n",
       "      <td>250.0</td>\n",
       "      <td>0.0</td>\n",
       "      <td>3.0</td>\n",
       "      <td>1783.0</td>\n",
       "      <td>0.0</td>\n",
       "      <td>0.0</td>\n",
       "      <td>0.0</td>\n",
       "      <td>0.0</td>\n",
       "    </tr>\n",
       "    <tr>\n",
       "      <th>2</th>\n",
       "      <td>999555</td>\n",
       "      <td>2.0</td>\n",
       "      <td>209.0</td>\n",
       "      <td>3958.0</td>\n",
       "      <td>112.0</td>\n",
       "      <td>52.0</td>\n",
       "      <td>677.0</td>\n",
       "      <td>847.0</td>\n",
       "      <td>0.0</td>\n",
       "      <td>0.0</td>\n",
       "      <td>...</td>\n",
       "      <td>0.0</td>\n",
       "      <td>8.0</td>\n",
       "      <td>0.0</td>\n",
       "      <td>0.0</td>\n",
       "      <td>62.0</td>\n",
       "      <td>1422.0</td>\n",
       "      <td>0.0</td>\n",
       "      <td>0.0</td>\n",
       "      <td>0.0</td>\n",
       "      <td>0.0</td>\n",
       "    </tr>\n",
       "    <tr>\n",
       "      <th>3</th>\n",
       "      <td>999478</td>\n",
       "      <td>16.0</td>\n",
       "      <td>291.0</td>\n",
       "      <td>1448.0</td>\n",
       "      <td>33.0</td>\n",
       "      <td>50.0</td>\n",
       "      <td>255.0</td>\n",
       "      <td>474.0</td>\n",
       "      <td>0.0</td>\n",
       "      <td>0.0</td>\n",
       "      <td>...</td>\n",
       "      <td>0.0</td>\n",
       "      <td>28.0</td>\n",
       "      <td>0.0</td>\n",
       "      <td>0.0</td>\n",
       "      <td>208.0</td>\n",
       "      <td>7637.0</td>\n",
       "      <td>0.0</td>\n",
       "      <td>0.0</td>\n",
       "      <td>0.0</td>\n",
       "      <td>0.0</td>\n",
       "    </tr>\n",
       "    <tr>\n",
       "      <th>4</th>\n",
       "      <td>99881</td>\n",
       "      <td>2.0</td>\n",
       "      <td>199.0</td>\n",
       "      <td>1057.0</td>\n",
       "      <td>6.0</td>\n",
       "      <td>22.0</td>\n",
       "      <td>149.0</td>\n",
       "      <td>238.0</td>\n",
       "      <td>0.0</td>\n",
       "      <td>0.0</td>\n",
       "      <td>...</td>\n",
       "      <td>0.0</td>\n",
       "      <td>0.0</td>\n",
       "      <td>0.0</td>\n",
       "      <td>0.0</td>\n",
       "      <td>0.0</td>\n",
       "      <td>453.0</td>\n",
       "      <td>0.0</td>\n",
       "      <td>0.0</td>\n",
       "      <td>0.0</td>\n",
       "      <td>0.0</td>\n",
       "    </tr>\n",
       "    <tr>\n",
       "      <th>...</th>\n",
       "      <td>...</td>\n",
       "      <td>...</td>\n",
       "      <td>...</td>\n",
       "      <td>...</td>\n",
       "      <td>...</td>\n",
       "      <td>...</td>\n",
       "      <td>...</td>\n",
       "      <td>...</td>\n",
       "      <td>...</td>\n",
       "      <td>...</td>\n",
       "      <td>...</td>\n",
       "      <td>...</td>\n",
       "      <td>...</td>\n",
       "      <td>...</td>\n",
       "      <td>...</td>\n",
       "      <td>...</td>\n",
       "      <td>...</td>\n",
       "      <td>...</td>\n",
       "      <td>...</td>\n",
       "      <td>...</td>\n",
       "      <td>...</td>\n",
       "    </tr>\n",
       "    <tr>\n",
       "      <th>130556</th>\n",
       "      <td>1196688</td>\n",
       "      <td>0.0</td>\n",
       "      <td>144.0</td>\n",
       "      <td>1855.0</td>\n",
       "      <td>48.0</td>\n",
       "      <td>22.0</td>\n",
       "      <td>339.0</td>\n",
       "      <td>465.0</td>\n",
       "      <td>0.0</td>\n",
       "      <td>8.0</td>\n",
       "      <td>...</td>\n",
       "      <td>89.0</td>\n",
       "      <td>816.0</td>\n",
       "      <td>0.0</td>\n",
       "      <td>0.0</td>\n",
       "      <td>8525.0</td>\n",
       "      <td>0.0</td>\n",
       "      <td>0.0</td>\n",
       "      <td>0.0</td>\n",
       "      <td>0.0</td>\n",
       "      <td>0.0</td>\n",
       "    </tr>\n",
       "    <tr>\n",
       "      <th>130557</th>\n",
       "      <td>1196513</td>\n",
       "      <td>4.0</td>\n",
       "      <td>212.0</td>\n",
       "      <td>1416.0</td>\n",
       "      <td>4.0</td>\n",
       "      <td>38.0</td>\n",
       "      <td>77.0</td>\n",
       "      <td>173.0</td>\n",
       "      <td>0.0</td>\n",
       "      <td>0.0</td>\n",
       "      <td>...</td>\n",
       "      <td>0.0</td>\n",
       "      <td>320.0</td>\n",
       "      <td>0.0</td>\n",
       "      <td>0.0</td>\n",
       "      <td>0.0</td>\n",
       "      <td>29.0</td>\n",
       "      <td>0.0</td>\n",
       "      <td>0.0</td>\n",
       "      <td>0.0</td>\n",
       "      <td>0.0</td>\n",
       "    </tr>\n",
       "    <tr>\n",
       "      <th>130558</th>\n",
       "      <td>1196269</td>\n",
       "      <td>0.0</td>\n",
       "      <td>1741.0</td>\n",
       "      <td>1557.0</td>\n",
       "      <td>33.0</td>\n",
       "      <td>32.0</td>\n",
       "      <td>101.0</td>\n",
       "      <td>700.0</td>\n",
       "      <td>0.0</td>\n",
       "      <td>0.0</td>\n",
       "      <td>...</td>\n",
       "      <td>0.0</td>\n",
       "      <td>20.0</td>\n",
       "      <td>0.0</td>\n",
       "      <td>0.0</td>\n",
       "      <td>0.0</td>\n",
       "      <td>6033.0</td>\n",
       "      <td>0.0</td>\n",
       "      <td>0.0</td>\n",
       "      <td>0.0</td>\n",
       "      <td>0.0</td>\n",
       "    </tr>\n",
       "    <tr>\n",
       "      <th>130559</th>\n",
       "      <td>1196232</td>\n",
       "      <td>0.0</td>\n",
       "      <td>1102.0</td>\n",
       "      <td>1579.0</td>\n",
       "      <td>3.0</td>\n",
       "      <td>81.0</td>\n",
       "      <td>204.0</td>\n",
       "      <td>372.0</td>\n",
       "      <td>0.0</td>\n",
       "      <td>0.0</td>\n",
       "      <td>...</td>\n",
       "      <td>0.0</td>\n",
       "      <td>0.0</td>\n",
       "      <td>0.0</td>\n",
       "      <td>0.0</td>\n",
       "      <td>0.0</td>\n",
       "      <td>435.0</td>\n",
       "      <td>0.0</td>\n",
       "      <td>0.0</td>\n",
       "      <td>0.0</td>\n",
       "      <td>0.0</td>\n",
       "    </tr>\n",
       "    <tr>\n",
       "      <th>130560</th>\n",
       "      <td>1195945</td>\n",
       "      <td>0.0</td>\n",
       "      <td>471.0</td>\n",
       "      <td>3258.0</td>\n",
       "      <td>122.0</td>\n",
       "      <td>223.0</td>\n",
       "      <td>608.0</td>\n",
       "      <td>1105.0</td>\n",
       "      <td>0.0</td>\n",
       "      <td>0.0</td>\n",
       "      <td>...</td>\n",
       "      <td>0.0</td>\n",
       "      <td>0.0</td>\n",
       "      <td>0.0</td>\n",
       "      <td>0.0</td>\n",
       "      <td>0.0</td>\n",
       "      <td>0.0</td>\n",
       "      <td>0.0</td>\n",
       "      <td>0.0</td>\n",
       "      <td>0.0</td>\n",
       "      <td>0.0</td>\n",
       "    </tr>\n",
       "  </tbody>\n",
       "</table>\n",
       "<p>130561 rows × 1015 columns</p>\n",
       "</div>"
      ],
      "text/plain": [
       "        CLIENT_ID     0       1       2      3      4      5       6    7  \\\n",
       "0          999819   0.0  1310.0  6879.0   52.0  473.0  504.0  2413.0  0.0   \n",
       "1           99978   0.0   964.0  5932.0   58.0  308.0  309.0  1160.0  0.0   \n",
       "2          999555   2.0   209.0  3958.0  112.0   52.0  677.0   847.0  0.0   \n",
       "3          999478  16.0   291.0  1448.0   33.0   50.0  255.0   474.0  0.0   \n",
       "4           99881   2.0   199.0  1057.0    6.0   22.0  149.0   238.0  0.0   \n",
       "...           ...   ...     ...     ...    ...    ...    ...     ...  ...   \n",
       "130556    1196688   0.0   144.0  1855.0   48.0   22.0  339.0   465.0  0.0   \n",
       "130557    1196513   4.0   212.0  1416.0    4.0   38.0   77.0   173.0  0.0   \n",
       "130558    1196269   0.0  1741.0  1557.0   33.0   32.0  101.0   700.0  0.0   \n",
       "130559    1196232   0.0  1102.0  1579.0    3.0   81.0  204.0   372.0  0.0   \n",
       "130560    1195945   0.0   471.0  3258.0  122.0  223.0  608.0  1105.0  0.0   \n",
       "\n",
       "           8  ...   1004   1005   1006  1007    1008    1009  1010  1011  \\\n",
       "0       60.0  ...  125.0   72.0  263.0   0.0     0.0   316.0   0.0   0.0   \n",
       "1       10.0  ...    0.0    0.0  250.0   0.0     3.0  1783.0   0.0   0.0   \n",
       "2        0.0  ...    0.0    8.0    0.0   0.0    62.0  1422.0   0.0   0.0   \n",
       "3        0.0  ...    0.0   28.0    0.0   0.0   208.0  7637.0   0.0   0.0   \n",
       "4        0.0  ...    0.0    0.0    0.0   0.0     0.0   453.0   0.0   0.0   \n",
       "...      ...  ...    ...    ...    ...   ...     ...     ...   ...   ...   \n",
       "130556   8.0  ...   89.0  816.0    0.0   0.0  8525.0     0.0   0.0   0.0   \n",
       "130557   0.0  ...    0.0  320.0    0.0   0.0     0.0    29.0   0.0   0.0   \n",
       "130558   0.0  ...    0.0   20.0    0.0   0.0     0.0  6033.0   0.0   0.0   \n",
       "130559   0.0  ...    0.0    0.0    0.0   0.0     0.0   435.0   0.0   0.0   \n",
       "130560   0.0  ...    0.0    0.0    0.0   0.0     0.0     0.0   0.0   0.0   \n",
       "\n",
       "        1012  1013  \n",
       "0        0.0   0.0  \n",
       "1        0.0   0.0  \n",
       "2        0.0   0.0  \n",
       "3        0.0   0.0  \n",
       "4        0.0   0.0  \n",
       "...      ...   ...  \n",
       "130556   0.0   0.0  \n",
       "130557   0.0   0.0  \n",
       "130558   0.0   0.0  \n",
       "130559   0.0   0.0  \n",
       "130560   0.0   0.0  \n",
       "\n",
       "[130561 rows x 1015 columns]"
      ]
     },
     "execution_count": 318,
     "metadata": {},
     "output_type": "execute_result"
    }
   ],
   "source": [
    "clients_friends_features_df = pd.DataFrame(clients_friends_features).T\n",
    "clients_friends_features_df = clients_friends_features_df.reset_index()\n",
    "clients_friends_features_df = clients_friends_features_df.rename({'index': 'CLIENT_ID'}, axis = 1)\n",
    "# clients_friends_features_df.to_csv('./data/clean_data/clients_friends_features.csv')\n",
    "clients_friends_features_df.head(2)"
   ]
  },
  {
   "cell_type": "code",
   "execution_count": 364,
   "id": "7fe90a16",
   "metadata": {},
   "outputs": [
    {
     "name": "stdout",
     "output_type": "stream",
     "text": [
      "DATASETS LENGTHS\n",
      "MATRIX        159290\n",
      "FRIEND        130561\n",
      "INSTERSECTION 130561\n"
     ]
    }
   ],
   "source": [
    "## Каждый клиент из датасета с друзьми есть в размеченных данных (но не наоборот)\n",
    "print('DATASETS LENGTHS')\n",
    "print(f'''MATRIX        {len(set(targets_dates_traintest_df['CLIENT_ID']))}''')\n",
    "print(f'''FRIEND        {len(set(clients_friends_count_df['CLIENT_ID']))}''')\n",
    "print(f'''INSTERSECTION {len(set(targets_dates_traintest_df['CLIENT_ID']) & set(clients_friends_count_df['CLIENT_ID']))}''')"
   ]
  },
  {
   "cell_type": "code",
   "execution_count": 363,
   "id": "807f057f",
   "metadata": {},
   "outputs": [],
   "source": [
    "clients_friends_features_df = pd.merge(clients_friends_features_df, clients_friends_count_df, on='CLIENT_ID')\n",
    "clients_friends_features_df[list(range(0, 1014))] = ( clients_friends_features_df[list(range(0, 1014))].T / clients_friends_features_df['FRIENDS_COUNT'] ).T\n",
    "clients_friends_features_df.to_csv('./data/clean_data/clients_friends_features.csv')"
   ]
  },
  {
   "cell_type": "code",
   "execution_count": 393,
   "id": "854de87f",
   "metadata": {},
   "outputs": [
    {
     "data": {
      "text/html": [
       "<div>\n",
       "<style scoped>\n",
       "    .dataframe tbody tr th:only-of-type {\n",
       "        vertical-align: middle;\n",
       "    }\n",
       "\n",
       "    .dataframe tbody tr th {\n",
       "        vertical-align: top;\n",
       "    }\n",
       "\n",
       "    .dataframe thead th {\n",
       "        text-align: right;\n",
       "    }\n",
       "</style>\n",
       "<table border=\"1\" class=\"dataframe\">\n",
       "  <thead>\n",
       "    <tr style=\"text-align: right;\">\n",
       "      <th></th>\n",
       "      <th>CLIENT_ID</th>\n",
       "      <th>0</th>\n",
       "      <th>1</th>\n",
       "      <th>2</th>\n",
       "      <th>3</th>\n",
       "      <th>4</th>\n",
       "      <th>5</th>\n",
       "      <th>6</th>\n",
       "      <th>7</th>\n",
       "      <th>8</th>\n",
       "      <th>...</th>\n",
       "      <th>1005</th>\n",
       "      <th>1006</th>\n",
       "      <th>1007</th>\n",
       "      <th>1008</th>\n",
       "      <th>1009</th>\n",
       "      <th>1010</th>\n",
       "      <th>1011</th>\n",
       "      <th>1012</th>\n",
       "      <th>1013</th>\n",
       "      <th>FRIENDS_COUNT</th>\n",
       "    </tr>\n",
       "  </thead>\n",
       "  <tbody>\n",
       "    <tr>\n",
       "      <th>0</th>\n",
       "      <td>999819</td>\n",
       "      <td>0.0</td>\n",
       "      <td>16.375</td>\n",
       "      <td>85.9875</td>\n",
       "      <td>0.65</td>\n",
       "      <td>5.9125</td>\n",
       "      <td>6.30</td>\n",
       "      <td>30.1625</td>\n",
       "      <td>0.0</td>\n",
       "      <td>0.75</td>\n",
       "      <td>...</td>\n",
       "      <td>0.9</td>\n",
       "      <td>3.2875</td>\n",
       "      <td>0.0</td>\n",
       "      <td>0.00</td>\n",
       "      <td>3.95</td>\n",
       "      <td>0.0</td>\n",
       "      <td>0.0</td>\n",
       "      <td>0.0</td>\n",
       "      <td>0.0</td>\n",
       "      <td>80</td>\n",
       "    </tr>\n",
       "    <tr>\n",
       "      <th>1</th>\n",
       "      <td>99978</td>\n",
       "      <td>0.0</td>\n",
       "      <td>9.640</td>\n",
       "      <td>59.3200</td>\n",
       "      <td>0.58</td>\n",
       "      <td>3.0800</td>\n",
       "      <td>3.09</td>\n",
       "      <td>11.6000</td>\n",
       "      <td>0.0</td>\n",
       "      <td>0.10</td>\n",
       "      <td>...</td>\n",
       "      <td>0.0</td>\n",
       "      <td>2.5000</td>\n",
       "      <td>0.0</td>\n",
       "      <td>0.03</td>\n",
       "      <td>17.83</td>\n",
       "      <td>0.0</td>\n",
       "      <td>0.0</td>\n",
       "      <td>0.0</td>\n",
       "      <td>0.0</td>\n",
       "      <td>100</td>\n",
       "    </tr>\n",
       "  </tbody>\n",
       "</table>\n",
       "<p>2 rows × 1016 columns</p>\n",
       "</div>"
      ],
      "text/plain": [
       "   CLIENT_ID    0       1        2     3       4     5        6    7     8  \\\n",
       "0     999819  0.0  16.375  85.9875  0.65  5.9125  6.30  30.1625  0.0  0.75   \n",
       "1      99978  0.0   9.640  59.3200  0.58  3.0800  3.09  11.6000  0.0  0.10   \n",
       "\n",
       "   ...  1005    1006  1007  1008   1009  1010  1011  1012  1013  FRIENDS_COUNT  \n",
       "0  ...   0.9  3.2875   0.0  0.00   3.95   0.0   0.0   0.0   0.0             80  \n",
       "1  ...   0.0  2.5000   0.0  0.03  17.83   0.0   0.0   0.0   0.0            100  \n",
       "\n",
       "[2 rows x 1016 columns]"
      ]
     },
     "execution_count": 393,
     "metadata": {},
     "output_type": "execute_result"
    }
   ],
   "source": [
    "clients_friends_features_df.head(2)"
   ]
  },
  {
   "cell_type": "code",
   "execution_count": 391,
   "id": "2aa5175d",
   "metadata": {},
   "outputs": [],
   "source": [
    "clients_friends_features_df.to_csv('./data/clean_data/clients_friends_features.csv')"
   ]
  },
  {
   "cell_type": "code",
   "execution_count": null,
   "id": "b6e9d49a",
   "metadata": {},
   "outputs": [],
   "source": []
  }
 ],
 "metadata": {
  "kernelspec": {
   "display_name": "Python 3 (ipykernel)",
   "language": "python",
   "name": "python3"
  },
  "language_info": {
   "codemirror_mode": {
    "name": "ipython",
    "version": 3
   },
   "file_extension": ".py",
   "mimetype": "text/x-python",
   "name": "python",
   "nbconvert_exporter": "python",
   "pygments_lexer": "ipython3",
   "version": "3.10.1"
  }
 },
 "nbformat": 4,
 "nbformat_minor": 5
}
